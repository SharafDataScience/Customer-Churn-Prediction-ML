{
  "cells": [
    {
      "cell_type": "code",
      "execution_count": null,
      "metadata": {
        "id": "e7QBqQ2ySWJ4"
      },
      "outputs": [],
      "source": [
        "import pandas as pd\n",
        "import numpy as np\n",
        "import matplotlib.pyplot as plt\n",
        "%matplotlib inline\n",
        "\n",
        "\n",
        "\n",
        "import sklearn\n",
        "\n",
        "import warnings\n",
        "warnings.filterwarnings(action='ignore')\n",
        "from sklearn import preprocessing\n",
        "from sklearn.decomposition import PCA\n",
        "\n",
        "\n",
        "from numpy import set_printoptions\n",
        "from sklearn.feature_selection import SelectKBest\n",
        "from sklearn.feature_selection import f_classif\n",
        "from sklearn.ensemble import ExtraTreesClassifier\n",
        "\n",
        "\n",
        "import seaborn as sns\n",
        "\n",
        "from sklearn.preprocessing import LabelEncoder, OneHotEncoder\n",
        "\n",
        "from sklearn.model_selection import train_test_split\n",
        "from sklearn.svm import SVC\n",
        "from sklearn.metrics import confusion_matrix\n",
        "np.random.seed(123)"
      ]
    },
    {
      "cell_type": "code",
      "execution_count": null,
      "metadata": {
        "id": "z5Vt581BSWJ7",
        "outputId": "2e438c90-22b5-4596-a4f5-3d56e9ae50ef"
      },
      "outputs": [
        {
          "data": {
            "text/html": [
              "<div>\n",
              "<style scoped>\n",
              "    .dataframe tbody tr th:only-of-type {\n",
              "        vertical-align: middle;\n",
              "    }\n",
              "\n",
              "    .dataframe tbody tr th {\n",
              "        vertical-align: top;\n",
              "    }\n",
              "\n",
              "    .dataframe thead th {\n",
              "        text-align: right;\n",
              "    }\n",
              "</style>\n",
              "<table border=\"1\" class=\"dataframe\">\n",
              "  <thead>\n",
              "    <tr style=\"text-align: right;\">\n",
              "      <th></th>\n",
              "      <th>customerID</th>\n",
              "      <th>gender</th>\n",
              "      <th>SeniorCitizen</th>\n",
              "      <th>Partner</th>\n",
              "      <th>Dependents</th>\n",
              "      <th>tenure</th>\n",
              "      <th>PhoneService</th>\n",
              "      <th>MultipleLines</th>\n",
              "      <th>InternetService</th>\n",
              "      <th>OnlineSecurity</th>\n",
              "      <th>...</th>\n",
              "      <th>DeviceProtection</th>\n",
              "      <th>TechSupport</th>\n",
              "      <th>StreamingTV</th>\n",
              "      <th>StreamingMovies</th>\n",
              "      <th>Contract</th>\n",
              "      <th>PaperlessBilling</th>\n",
              "      <th>PaymentMethod</th>\n",
              "      <th>MonthlyCharges</th>\n",
              "      <th>TotalCharges</th>\n",
              "      <th>Churn</th>\n",
              "    </tr>\n",
              "  </thead>\n",
              "  <tbody>\n",
              "    <tr>\n",
              "      <th>0</th>\n",
              "      <td>7590-VHVEG</td>\n",
              "      <td>Female</td>\n",
              "      <td>0</td>\n",
              "      <td>Yes</td>\n",
              "      <td>No</td>\n",
              "      <td>1</td>\n",
              "      <td>No</td>\n",
              "      <td>No phone service</td>\n",
              "      <td>DSL</td>\n",
              "      <td>No</td>\n",
              "      <td>...</td>\n",
              "      <td>No</td>\n",
              "      <td>No</td>\n",
              "      <td>No</td>\n",
              "      <td>No</td>\n",
              "      <td>Month-to-month</td>\n",
              "      <td>Yes</td>\n",
              "      <td>Electronic check</td>\n",
              "      <td>29.85</td>\n",
              "      <td>29.85</td>\n",
              "      <td>No</td>\n",
              "    </tr>\n",
              "    <tr>\n",
              "      <th>1</th>\n",
              "      <td>5575-GNVDE</td>\n",
              "      <td>Male</td>\n",
              "      <td>0</td>\n",
              "      <td>No</td>\n",
              "      <td>No</td>\n",
              "      <td>34</td>\n",
              "      <td>Yes</td>\n",
              "      <td>No</td>\n",
              "      <td>DSL</td>\n",
              "      <td>Yes</td>\n",
              "      <td>...</td>\n",
              "      <td>Yes</td>\n",
              "      <td>No</td>\n",
              "      <td>No</td>\n",
              "      <td>No</td>\n",
              "      <td>One year</td>\n",
              "      <td>No</td>\n",
              "      <td>Mailed check</td>\n",
              "      <td>56.95</td>\n",
              "      <td>1889.5</td>\n",
              "      <td>No</td>\n",
              "    </tr>\n",
              "    <tr>\n",
              "      <th>2</th>\n",
              "      <td>3668-QPYBK</td>\n",
              "      <td>Male</td>\n",
              "      <td>0</td>\n",
              "      <td>No</td>\n",
              "      <td>No</td>\n",
              "      <td>2</td>\n",
              "      <td>Yes</td>\n",
              "      <td>No</td>\n",
              "      <td>DSL</td>\n",
              "      <td>Yes</td>\n",
              "      <td>...</td>\n",
              "      <td>No</td>\n",
              "      <td>No</td>\n",
              "      <td>No</td>\n",
              "      <td>No</td>\n",
              "      <td>Month-to-month</td>\n",
              "      <td>Yes</td>\n",
              "      <td>Mailed check</td>\n",
              "      <td>53.85</td>\n",
              "      <td>108.15</td>\n",
              "      <td>Yes</td>\n",
              "    </tr>\n",
              "    <tr>\n",
              "      <th>3</th>\n",
              "      <td>7795-CFOCW</td>\n",
              "      <td>Male</td>\n",
              "      <td>0</td>\n",
              "      <td>No</td>\n",
              "      <td>No</td>\n",
              "      <td>45</td>\n",
              "      <td>No</td>\n",
              "      <td>No phone service</td>\n",
              "      <td>DSL</td>\n",
              "      <td>Yes</td>\n",
              "      <td>...</td>\n",
              "      <td>Yes</td>\n",
              "      <td>Yes</td>\n",
              "      <td>No</td>\n",
              "      <td>No</td>\n",
              "      <td>One year</td>\n",
              "      <td>No</td>\n",
              "      <td>Bank transfer (automatic)</td>\n",
              "      <td>42.30</td>\n",
              "      <td>1840.75</td>\n",
              "      <td>No</td>\n",
              "    </tr>\n",
              "    <tr>\n",
              "      <th>4</th>\n",
              "      <td>9237-HQITU</td>\n",
              "      <td>Female</td>\n",
              "      <td>0</td>\n",
              "      <td>No</td>\n",
              "      <td>No</td>\n",
              "      <td>2</td>\n",
              "      <td>Yes</td>\n",
              "      <td>No</td>\n",
              "      <td>Fiber optic</td>\n",
              "      <td>No</td>\n",
              "      <td>...</td>\n",
              "      <td>No</td>\n",
              "      <td>No</td>\n",
              "      <td>No</td>\n",
              "      <td>No</td>\n",
              "      <td>Month-to-month</td>\n",
              "      <td>Yes</td>\n",
              "      <td>Electronic check</td>\n",
              "      <td>70.70</td>\n",
              "      <td>151.65</td>\n",
              "      <td>Yes</td>\n",
              "    </tr>\n",
              "  </tbody>\n",
              "</table>\n",
              "<p>5 rows × 21 columns</p>\n",
              "</div>"
            ],
            "text/plain": [
              "   customerID  gender  SeniorCitizen Partner Dependents  tenure PhoneService  \\\n",
              "0  7590-VHVEG  Female              0     Yes         No       1           No   \n",
              "1  5575-GNVDE    Male              0      No         No      34          Yes   \n",
              "2  3668-QPYBK    Male              0      No         No       2          Yes   \n",
              "3  7795-CFOCW    Male              0      No         No      45           No   \n",
              "4  9237-HQITU  Female              0      No         No       2          Yes   \n",
              "\n",
              "      MultipleLines InternetService OnlineSecurity  ... DeviceProtection  \\\n",
              "0  No phone service             DSL             No  ...               No   \n",
              "1                No             DSL            Yes  ...              Yes   \n",
              "2                No             DSL            Yes  ...               No   \n",
              "3  No phone service             DSL            Yes  ...              Yes   \n",
              "4                No     Fiber optic             No  ...               No   \n",
              "\n",
              "  TechSupport StreamingTV StreamingMovies        Contract PaperlessBilling  \\\n",
              "0          No          No              No  Month-to-month              Yes   \n",
              "1          No          No              No        One year               No   \n",
              "2          No          No              No  Month-to-month              Yes   \n",
              "3         Yes          No              No        One year               No   \n",
              "4          No          No              No  Month-to-month              Yes   \n",
              "\n",
              "               PaymentMethod MonthlyCharges  TotalCharges Churn  \n",
              "0           Electronic check          29.85         29.85    No  \n",
              "1               Mailed check          56.95        1889.5    No  \n",
              "2               Mailed check          53.85        108.15   Yes  \n",
              "3  Bank transfer (automatic)          42.30       1840.75    No  \n",
              "4           Electronic check          70.70        151.65   Yes  \n",
              "\n",
              "[5 rows x 21 columns]"
            ]
          },
          "execution_count": 2,
          "metadata": {},
          "output_type": "execute_result"
        }
      ],
      "source": [
        "df = pd.read_csv('WA_Fn-UseC_-Telco-Customer-Churn.csv')\n",
        "df.head()"
      ]
    },
    {
      "cell_type": "code",
      "execution_count": null,
      "metadata": {
        "id": "7dWXz4_QSWJ8",
        "outputId": "d3023b5c-009d-43df-fb87-b1e230d36253"
      },
      "outputs": [
        {
          "data": {
            "text/html": [
              "<div>\n",
              "<style scoped>\n",
              "    .dataframe tbody tr th:only-of-type {\n",
              "        vertical-align: middle;\n",
              "    }\n",
              "\n",
              "    .dataframe tbody tr th {\n",
              "        vertical-align: top;\n",
              "    }\n",
              "\n",
              "    .dataframe thead th {\n",
              "        text-align: right;\n",
              "    }\n",
              "</style>\n",
              "<table border=\"1\" class=\"dataframe\">\n",
              "  <thead>\n",
              "    <tr style=\"text-align: right;\">\n",
              "      <th></th>\n",
              "      <th>gender</th>\n",
              "      <th>SeniorCitizen</th>\n",
              "      <th>Partner</th>\n",
              "      <th>Dependents</th>\n",
              "      <th>tenure</th>\n",
              "      <th>PhoneService</th>\n",
              "      <th>MultipleLines</th>\n",
              "      <th>InternetService</th>\n",
              "      <th>OnlineSecurity</th>\n",
              "      <th>OnlineBackup</th>\n",
              "      <th>DeviceProtection</th>\n",
              "      <th>TechSupport</th>\n",
              "      <th>StreamingTV</th>\n",
              "      <th>StreamingMovies</th>\n",
              "      <th>Contract</th>\n",
              "      <th>PaperlessBilling</th>\n",
              "      <th>PaymentMethod</th>\n",
              "      <th>MonthlyCharges</th>\n",
              "      <th>TotalCharges</th>\n",
              "      <th>Churn</th>\n",
              "    </tr>\n",
              "  </thead>\n",
              "  <tbody>\n",
              "    <tr>\n",
              "      <th>0</th>\n",
              "      <td>Female</td>\n",
              "      <td>0</td>\n",
              "      <td>Yes</td>\n",
              "      <td>No</td>\n",
              "      <td>1</td>\n",
              "      <td>No</td>\n",
              "      <td>No phone service</td>\n",
              "      <td>DSL</td>\n",
              "      <td>No</td>\n",
              "      <td>Yes</td>\n",
              "      <td>No</td>\n",
              "      <td>No</td>\n",
              "      <td>No</td>\n",
              "      <td>No</td>\n",
              "      <td>Month-to-month</td>\n",
              "      <td>Yes</td>\n",
              "      <td>Electronic check</td>\n",
              "      <td>29.85</td>\n",
              "      <td>29.85</td>\n",
              "      <td>No</td>\n",
              "    </tr>\n",
              "    <tr>\n",
              "      <th>1</th>\n",
              "      <td>Male</td>\n",
              "      <td>0</td>\n",
              "      <td>No</td>\n",
              "      <td>No</td>\n",
              "      <td>34</td>\n",
              "      <td>Yes</td>\n",
              "      <td>No</td>\n",
              "      <td>DSL</td>\n",
              "      <td>Yes</td>\n",
              "      <td>No</td>\n",
              "      <td>Yes</td>\n",
              "      <td>No</td>\n",
              "      <td>No</td>\n",
              "      <td>No</td>\n",
              "      <td>One year</td>\n",
              "      <td>No</td>\n",
              "      <td>Mailed check</td>\n",
              "      <td>56.95</td>\n",
              "      <td>1889.5</td>\n",
              "      <td>No</td>\n",
              "    </tr>\n",
              "    <tr>\n",
              "      <th>2</th>\n",
              "      <td>Male</td>\n",
              "      <td>0</td>\n",
              "      <td>No</td>\n",
              "      <td>No</td>\n",
              "      <td>2</td>\n",
              "      <td>Yes</td>\n",
              "      <td>No</td>\n",
              "      <td>DSL</td>\n",
              "      <td>Yes</td>\n",
              "      <td>Yes</td>\n",
              "      <td>No</td>\n",
              "      <td>No</td>\n",
              "      <td>No</td>\n",
              "      <td>No</td>\n",
              "      <td>Month-to-month</td>\n",
              "      <td>Yes</td>\n",
              "      <td>Mailed check</td>\n",
              "      <td>53.85</td>\n",
              "      <td>108.15</td>\n",
              "      <td>Yes</td>\n",
              "    </tr>\n",
              "    <tr>\n",
              "      <th>3</th>\n",
              "      <td>Male</td>\n",
              "      <td>0</td>\n",
              "      <td>No</td>\n",
              "      <td>No</td>\n",
              "      <td>45</td>\n",
              "      <td>No</td>\n",
              "      <td>No phone service</td>\n",
              "      <td>DSL</td>\n",
              "      <td>Yes</td>\n",
              "      <td>No</td>\n",
              "      <td>Yes</td>\n",
              "      <td>Yes</td>\n",
              "      <td>No</td>\n",
              "      <td>No</td>\n",
              "      <td>One year</td>\n",
              "      <td>No</td>\n",
              "      <td>Bank transfer (automatic)</td>\n",
              "      <td>42.30</td>\n",
              "      <td>1840.75</td>\n",
              "      <td>No</td>\n",
              "    </tr>\n",
              "    <tr>\n",
              "      <th>4</th>\n",
              "      <td>Female</td>\n",
              "      <td>0</td>\n",
              "      <td>No</td>\n",
              "      <td>No</td>\n",
              "      <td>2</td>\n",
              "      <td>Yes</td>\n",
              "      <td>No</td>\n",
              "      <td>Fiber optic</td>\n",
              "      <td>No</td>\n",
              "      <td>No</td>\n",
              "      <td>No</td>\n",
              "      <td>No</td>\n",
              "      <td>No</td>\n",
              "      <td>No</td>\n",
              "      <td>Month-to-month</td>\n",
              "      <td>Yes</td>\n",
              "      <td>Electronic check</td>\n",
              "      <td>70.70</td>\n",
              "      <td>151.65</td>\n",
              "      <td>Yes</td>\n",
              "    </tr>\n",
              "  </tbody>\n",
              "</table>\n",
              "</div>"
            ],
            "text/plain": [
              "   gender  SeniorCitizen Partner Dependents  tenure PhoneService  \\\n",
              "0  Female              0     Yes         No       1           No   \n",
              "1    Male              0      No         No      34          Yes   \n",
              "2    Male              0      No         No       2          Yes   \n",
              "3    Male              0      No         No      45           No   \n",
              "4  Female              0      No         No       2          Yes   \n",
              "\n",
              "      MultipleLines InternetService OnlineSecurity OnlineBackup  \\\n",
              "0  No phone service             DSL             No          Yes   \n",
              "1                No             DSL            Yes           No   \n",
              "2                No             DSL            Yes          Yes   \n",
              "3  No phone service             DSL            Yes           No   \n",
              "4                No     Fiber optic             No           No   \n",
              "\n",
              "  DeviceProtection TechSupport StreamingTV StreamingMovies        Contract  \\\n",
              "0               No          No          No              No  Month-to-month   \n",
              "1              Yes          No          No              No        One year   \n",
              "2               No          No          No              No  Month-to-month   \n",
              "3              Yes         Yes          No              No        One year   \n",
              "4               No          No          No              No  Month-to-month   \n",
              "\n",
              "  PaperlessBilling              PaymentMethod  MonthlyCharges TotalCharges  \\\n",
              "0              Yes           Electronic check           29.85        29.85   \n",
              "1               No               Mailed check           56.95       1889.5   \n",
              "2              Yes               Mailed check           53.85       108.15   \n",
              "3               No  Bank transfer (automatic)           42.30      1840.75   \n",
              "4              Yes           Electronic check           70.70       151.65   \n",
              "\n",
              "  Churn  \n",
              "0    No  \n",
              "1    No  \n",
              "2   Yes  \n",
              "3    No  \n",
              "4   Yes  "
            ]
          },
          "execution_count": 3,
          "metadata": {},
          "output_type": "execute_result"
        }
      ],
      "source": [
        "df.drop('customerID', axis=1, inplace=True)\n",
        "df.head()"
      ]
    },
    {
      "cell_type": "code",
      "execution_count": null,
      "metadata": {
        "id": "Re69qMa5SWJ8",
        "outputId": "d6b20fd2-a79b-4026-cead-0c1a9610bd84"
      },
      "outputs": [
        {
          "data": {
            "text/plain": [
              "gender               object\n",
              "SeniorCitizen         int64\n",
              "Partner              object\n",
              "Dependents           object\n",
              "tenure                int64\n",
              "PhoneService         object\n",
              "MultipleLines        object\n",
              "InternetService      object\n",
              "OnlineSecurity       object\n",
              "OnlineBackup         object\n",
              "DeviceProtection     object\n",
              "TechSupport          object\n",
              "StreamingTV          object\n",
              "StreamingMovies      object\n",
              "Contract             object\n",
              "PaperlessBilling     object\n",
              "PaymentMethod        object\n",
              "MonthlyCharges      float64\n",
              "TotalCharges         object\n",
              "Churn                object\n",
              "dtype: object"
            ]
          },
          "execution_count": 4,
          "metadata": {},
          "output_type": "execute_result"
        }
      ],
      "source": [
        "df.dtypes"
      ]
    },
    {
      "cell_type": "code",
      "execution_count": null,
      "metadata": {
        "id": "2pq9onmTSWJ9",
        "outputId": "65f67f7d-af2e-4f79-d6a2-5748470ed5c0"
      },
      "outputs": [
        {
          "data": {
            "text/plain": [
              "(7032, 20)"
            ]
          },
          "execution_count": 5,
          "metadata": {},
          "output_type": "execute_result"
        }
      ],
      "source": [
        "#drop TotalCharges with null\n",
        "data = df[df.TotalCharges!=\" \"]\n",
        "data.shape"
      ]
    },
    {
      "cell_type": "code",
      "execution_count": null,
      "metadata": {
        "id": "n1NGgO5ZSWJ9",
        "outputId": "c25d2d9d-f7e9-45a4-911f-dd06d971637c"
      },
      "outputs": [
        {
          "data": {
            "text/plain": [
              "dtype('float64')"
            ]
          },
          "execution_count": 6,
          "metadata": {},
          "output_type": "execute_result"
        }
      ],
      "source": [
        "# change to numeric\n",
        "data.TotalCharges = pd.to_numeric(data.TotalCharges)\n",
        "data.TotalCharges.dtypes"
      ]
    },
    {
      "cell_type": "code",
      "execution_count": null,
      "metadata": {
        "id": "LfwrgnpeSWJ-"
      },
      "outputs": [],
      "source": [
        "# list categories and their unique elements\n",
        "def print_cat_unique_object(data):\n",
        "    for column in data:\n",
        "        if data[column].dtypes == 'object':\n",
        "            print(f'{column} : {data[column].unique()}')"
      ]
    },
    {
      "cell_type": "code",
      "execution_count": null,
      "metadata": {
        "id": "jQktrRB4SWJ-"
      },
      "outputs": [],
      "source": [
        "# list categories and their unique elements\n",
        "def print_cat_unique_int(data):\n",
        "    for column in data:\n",
        "        if data[column].dtypes == 'int64':\n",
        "            print(f'{column} : {data[column].unique()}')"
      ]
    },
    {
      "cell_type": "code",
      "execution_count": null,
      "metadata": {
        "id": "apYtjWP8SWJ-"
      },
      "outputs": [],
      "source": [
        "# list categories and their unique elements\n",
        "def print_cat_unique_float(data):\n",
        "    for column in data:\n",
        "        if data[column].dtypes == 'float':\n",
        "            print(f'{column} : {data[column].unique()}')"
      ]
    },
    {
      "cell_type": "code",
      "execution_count": null,
      "metadata": {
        "id": "NxdUTN4_SWJ-",
        "outputId": "484caeaf-238e-4c8b-c794-c2e4edcef723"
      },
      "outputs": [
        {
          "name": "stdout",
          "output_type": "stream",
          "text": [
            "gender : ['Female' 'Male']\n",
            "Partner : ['Yes' 'No']\n",
            "Dependents : ['No' 'Yes']\n",
            "PhoneService : ['No' 'Yes']\n",
            "MultipleLines : ['No phone service' 'No' 'Yes']\n",
            "InternetService : ['DSL' 'Fiber optic' 'No']\n",
            "OnlineSecurity : ['No' 'Yes' 'No internet service']\n",
            "OnlineBackup : ['Yes' 'No' 'No internet service']\n",
            "DeviceProtection : ['No' 'Yes' 'No internet service']\n",
            "TechSupport : ['No' 'Yes' 'No internet service']\n",
            "StreamingTV : ['No' 'Yes' 'No internet service']\n",
            "StreamingMovies : ['No' 'Yes' 'No internet service']\n",
            "Contract : ['Month-to-month' 'One year' 'Two year']\n",
            "PaperlessBilling : ['Yes' 'No']\n",
            "PaymentMethod : ['Electronic check' 'Mailed check' 'Bank transfer (automatic)'\n",
            " 'Credit card (automatic)']\n",
            "Churn : ['No' 'Yes']\n"
          ]
        }
      ],
      "source": [
        "print_cat_unique_object(data)"
      ]
    },
    {
      "cell_type": "code",
      "execution_count": null,
      "metadata": {
        "id": "sr5i2Ik3SWJ-",
        "outputId": "afee5fa5-1882-4143-a4b8-d1b040c64974"
      },
      "outputs": [
        {
          "name": "stdout",
          "output_type": "stream",
          "text": [
            "SeniorCitizen : [0 1]\n",
            "tenure : [ 1 34  2 45  8 22 10 28 62 13 16 58 49 25 69 52 71 21 12 30 47 72 17 27\n",
            "  5 46 11 70 63 43 15 60 18 66  9  3 31 50 64 56  7 42 35 48 29 65 38 68\n",
            " 32 55 37 36 41  6  4 33 67 23 57 61 14 20 53 40 59 24 44 19 54 51 26 39]\n"
          ]
        }
      ],
      "source": [
        "print_cat_unique_int(data)"
      ]
    },
    {
      "cell_type": "code",
      "execution_count": null,
      "metadata": {
        "id": "cbK7jPTySWJ_",
        "outputId": "c05ecba8-4cfe-4b91-eeff-05f5310805bc"
      },
      "outputs": [
        {
          "name": "stdout",
          "output_type": "stream",
          "text": [
            "MonthlyCharges : [29.85 56.95 53.85 ... 63.1  44.2  78.7 ]\n",
            "TotalCharges : [  29.85 1889.5   108.15 ...  346.45  306.6  6844.5 ]\n"
          ]
        }
      ],
      "source": [
        "print_cat_unique_float(data)"
      ]
    },
    {
      "cell_type": "code",
      "execution_count": null,
      "metadata": {
        "id": "Ggq2zHHcSWJ_"
      },
      "outputs": [],
      "source": [
        "data.replace('No phone service', 'No', inplace=True)\n",
        "data.replace('No internet service', 'No', inplace=True)"
      ]
    },
    {
      "cell_type": "code",
      "execution_count": null,
      "metadata": {
        "id": "Gfy37i0-SWJ_",
        "outputId": "2e10cfdc-8f2d-4874-c755-ed9088f1c39e"
      },
      "outputs": [
        {
          "name": "stdout",
          "output_type": "stream",
          "text": [
            "gender : ['Female' 'Male']\n",
            "Partner : ['Yes' 'No']\n",
            "Dependents : ['No' 'Yes']\n",
            "PhoneService : ['No' 'Yes']\n",
            "MultipleLines : ['No' 'Yes']\n",
            "InternetService : ['DSL' 'Fiber optic' 'No']\n",
            "OnlineSecurity : ['No' 'Yes']\n",
            "OnlineBackup : ['Yes' 'No']\n",
            "DeviceProtection : ['No' 'Yes']\n",
            "TechSupport : ['No' 'Yes']\n",
            "StreamingTV : ['No' 'Yes']\n",
            "StreamingMovies : ['No' 'Yes']\n",
            "Contract : ['Month-to-month' 'One year' 'Two year']\n",
            "PaperlessBilling : ['Yes' 'No']\n",
            "PaymentMethod : ['Electronic check' 'Mailed check' 'Bank transfer (automatic)'\n",
            " 'Credit card (automatic)']\n",
            "Churn : ['No' 'Yes']\n"
          ]
        }
      ],
      "source": [
        "print_cat_unique_object(data)"
      ]
    },
    {
      "cell_type": "code",
      "execution_count": null,
      "metadata": {
        "id": "0yGAMLciSWJ_",
        "outputId": "e93a3d38-c61b-4f6b-f1d9-e334b957e56c"
      },
      "outputs": [
        {
          "data": {
            "text/html": [
              "<div>\n",
              "<style scoped>\n",
              "    .dataframe tbody tr th:only-of-type {\n",
              "        vertical-align: middle;\n",
              "    }\n",
              "\n",
              "    .dataframe tbody tr th {\n",
              "        vertical-align: top;\n",
              "    }\n",
              "\n",
              "    .dataframe thead th {\n",
              "        text-align: right;\n",
              "    }\n",
              "</style>\n",
              "<table border=\"1\" class=\"dataframe\">\n",
              "  <thead>\n",
              "    <tr style=\"text-align: right;\">\n",
              "      <th></th>\n",
              "      <th>gender</th>\n",
              "      <th>SeniorCitizen</th>\n",
              "      <th>Partner</th>\n",
              "      <th>Dependents</th>\n",
              "      <th>tenure</th>\n",
              "      <th>PhoneService</th>\n",
              "      <th>MultipleLines</th>\n",
              "      <th>InternetService</th>\n",
              "      <th>OnlineSecurity</th>\n",
              "      <th>OnlineBackup</th>\n",
              "      <th>DeviceProtection</th>\n",
              "      <th>TechSupport</th>\n",
              "      <th>StreamingTV</th>\n",
              "      <th>StreamingMovies</th>\n",
              "      <th>Contract</th>\n",
              "      <th>PaperlessBilling</th>\n",
              "      <th>PaymentMethod</th>\n",
              "      <th>MonthlyCharges</th>\n",
              "      <th>TotalCharges</th>\n",
              "      <th>Churn</th>\n",
              "    </tr>\n",
              "  </thead>\n",
              "  <tbody>\n",
              "    <tr>\n",
              "      <th>0</th>\n",
              "      <td>Female</td>\n",
              "      <td>0</td>\n",
              "      <td>Yes</td>\n",
              "      <td>No</td>\n",
              "      <td>1</td>\n",
              "      <td>No</td>\n",
              "      <td>No</td>\n",
              "      <td>DSL</td>\n",
              "      <td>No</td>\n",
              "      <td>Yes</td>\n",
              "      <td>No</td>\n",
              "      <td>No</td>\n",
              "      <td>No</td>\n",
              "      <td>No</td>\n",
              "      <td>Month-to-month</td>\n",
              "      <td>Yes</td>\n",
              "      <td>Electronic check</td>\n",
              "      <td>29.85</td>\n",
              "      <td>29.85</td>\n",
              "      <td>No</td>\n",
              "    </tr>\n",
              "    <tr>\n",
              "      <th>1</th>\n",
              "      <td>Male</td>\n",
              "      <td>0</td>\n",
              "      <td>No</td>\n",
              "      <td>No</td>\n",
              "      <td>34</td>\n",
              "      <td>Yes</td>\n",
              "      <td>No</td>\n",
              "      <td>DSL</td>\n",
              "      <td>Yes</td>\n",
              "      <td>No</td>\n",
              "      <td>Yes</td>\n",
              "      <td>No</td>\n",
              "      <td>No</td>\n",
              "      <td>No</td>\n",
              "      <td>One year</td>\n",
              "      <td>No</td>\n",
              "      <td>Mailed check</td>\n",
              "      <td>56.95</td>\n",
              "      <td>1889.50</td>\n",
              "      <td>No</td>\n",
              "    </tr>\n",
              "    <tr>\n",
              "      <th>2</th>\n",
              "      <td>Male</td>\n",
              "      <td>0</td>\n",
              "      <td>No</td>\n",
              "      <td>No</td>\n",
              "      <td>2</td>\n",
              "      <td>Yes</td>\n",
              "      <td>No</td>\n",
              "      <td>DSL</td>\n",
              "      <td>Yes</td>\n",
              "      <td>Yes</td>\n",
              "      <td>No</td>\n",
              "      <td>No</td>\n",
              "      <td>No</td>\n",
              "      <td>No</td>\n",
              "      <td>Month-to-month</td>\n",
              "      <td>Yes</td>\n",
              "      <td>Mailed check</td>\n",
              "      <td>53.85</td>\n",
              "      <td>108.15</td>\n",
              "      <td>Yes</td>\n",
              "    </tr>\n",
              "    <tr>\n",
              "      <th>3</th>\n",
              "      <td>Male</td>\n",
              "      <td>0</td>\n",
              "      <td>No</td>\n",
              "      <td>No</td>\n",
              "      <td>45</td>\n",
              "      <td>No</td>\n",
              "      <td>No</td>\n",
              "      <td>DSL</td>\n",
              "      <td>Yes</td>\n",
              "      <td>No</td>\n",
              "      <td>Yes</td>\n",
              "      <td>Yes</td>\n",
              "      <td>No</td>\n",
              "      <td>No</td>\n",
              "      <td>One year</td>\n",
              "      <td>No</td>\n",
              "      <td>Bank transfer (automatic)</td>\n",
              "      <td>42.30</td>\n",
              "      <td>1840.75</td>\n",
              "      <td>No</td>\n",
              "    </tr>\n",
              "    <tr>\n",
              "      <th>4</th>\n",
              "      <td>Female</td>\n",
              "      <td>0</td>\n",
              "      <td>No</td>\n",
              "      <td>No</td>\n",
              "      <td>2</td>\n",
              "      <td>Yes</td>\n",
              "      <td>No</td>\n",
              "      <td>Fiber optic</td>\n",
              "      <td>No</td>\n",
              "      <td>No</td>\n",
              "      <td>No</td>\n",
              "      <td>No</td>\n",
              "      <td>No</td>\n",
              "      <td>No</td>\n",
              "      <td>Month-to-month</td>\n",
              "      <td>Yes</td>\n",
              "      <td>Electronic check</td>\n",
              "      <td>70.70</td>\n",
              "      <td>151.65</td>\n",
              "      <td>Yes</td>\n",
              "    </tr>\n",
              "    <tr>\n",
              "      <th>5</th>\n",
              "      <td>Female</td>\n",
              "      <td>0</td>\n",
              "      <td>No</td>\n",
              "      <td>No</td>\n",
              "      <td>8</td>\n",
              "      <td>Yes</td>\n",
              "      <td>Yes</td>\n",
              "      <td>Fiber optic</td>\n",
              "      <td>No</td>\n",
              "      <td>No</td>\n",
              "      <td>Yes</td>\n",
              "      <td>No</td>\n",
              "      <td>Yes</td>\n",
              "      <td>Yes</td>\n",
              "      <td>Month-to-month</td>\n",
              "      <td>Yes</td>\n",
              "      <td>Electronic check</td>\n",
              "      <td>99.65</td>\n",
              "      <td>820.50</td>\n",
              "      <td>Yes</td>\n",
              "    </tr>\n",
              "    <tr>\n",
              "      <th>6</th>\n",
              "      <td>Male</td>\n",
              "      <td>0</td>\n",
              "      <td>No</td>\n",
              "      <td>Yes</td>\n",
              "      <td>22</td>\n",
              "      <td>Yes</td>\n",
              "      <td>Yes</td>\n",
              "      <td>Fiber optic</td>\n",
              "      <td>No</td>\n",
              "      <td>Yes</td>\n",
              "      <td>No</td>\n",
              "      <td>No</td>\n",
              "      <td>Yes</td>\n",
              "      <td>No</td>\n",
              "      <td>Month-to-month</td>\n",
              "      <td>Yes</td>\n",
              "      <td>Credit card (automatic)</td>\n",
              "      <td>89.10</td>\n",
              "      <td>1949.40</td>\n",
              "      <td>No</td>\n",
              "    </tr>\n",
              "    <tr>\n",
              "      <th>7</th>\n",
              "      <td>Female</td>\n",
              "      <td>0</td>\n",
              "      <td>No</td>\n",
              "      <td>No</td>\n",
              "      <td>10</td>\n",
              "      <td>No</td>\n",
              "      <td>No</td>\n",
              "      <td>DSL</td>\n",
              "      <td>Yes</td>\n",
              "      <td>No</td>\n",
              "      <td>No</td>\n",
              "      <td>No</td>\n",
              "      <td>No</td>\n",
              "      <td>No</td>\n",
              "      <td>Month-to-month</td>\n",
              "      <td>No</td>\n",
              "      <td>Mailed check</td>\n",
              "      <td>29.75</td>\n",
              "      <td>301.90</td>\n",
              "      <td>No</td>\n",
              "    </tr>\n",
              "    <tr>\n",
              "      <th>8</th>\n",
              "      <td>Female</td>\n",
              "      <td>0</td>\n",
              "      <td>Yes</td>\n",
              "      <td>No</td>\n",
              "      <td>28</td>\n",
              "      <td>Yes</td>\n",
              "      <td>Yes</td>\n",
              "      <td>Fiber optic</td>\n",
              "      <td>No</td>\n",
              "      <td>No</td>\n",
              "      <td>Yes</td>\n",
              "      <td>Yes</td>\n",
              "      <td>Yes</td>\n",
              "      <td>Yes</td>\n",
              "      <td>Month-to-month</td>\n",
              "      <td>Yes</td>\n",
              "      <td>Electronic check</td>\n",
              "      <td>104.80</td>\n",
              "      <td>3046.05</td>\n",
              "      <td>Yes</td>\n",
              "    </tr>\n",
              "    <tr>\n",
              "      <th>9</th>\n",
              "      <td>Male</td>\n",
              "      <td>0</td>\n",
              "      <td>No</td>\n",
              "      <td>Yes</td>\n",
              "      <td>62</td>\n",
              "      <td>Yes</td>\n",
              "      <td>No</td>\n",
              "      <td>DSL</td>\n",
              "      <td>Yes</td>\n",
              "      <td>Yes</td>\n",
              "      <td>No</td>\n",
              "      <td>No</td>\n",
              "      <td>No</td>\n",
              "      <td>No</td>\n",
              "      <td>One year</td>\n",
              "      <td>No</td>\n",
              "      <td>Bank transfer (automatic)</td>\n",
              "      <td>56.15</td>\n",
              "      <td>3487.95</td>\n",
              "      <td>No</td>\n",
              "    </tr>\n",
              "    <tr>\n",
              "      <th>10</th>\n",
              "      <td>Male</td>\n",
              "      <td>0</td>\n",
              "      <td>Yes</td>\n",
              "      <td>Yes</td>\n",
              "      <td>13</td>\n",
              "      <td>Yes</td>\n",
              "      <td>No</td>\n",
              "      <td>DSL</td>\n",
              "      <td>Yes</td>\n",
              "      <td>No</td>\n",
              "      <td>No</td>\n",
              "      <td>No</td>\n",
              "      <td>No</td>\n",
              "      <td>No</td>\n",
              "      <td>Month-to-month</td>\n",
              "      <td>Yes</td>\n",
              "      <td>Mailed check</td>\n",
              "      <td>49.95</td>\n",
              "      <td>587.45</td>\n",
              "      <td>No</td>\n",
              "    </tr>\n",
              "    <tr>\n",
              "      <th>11</th>\n",
              "      <td>Male</td>\n",
              "      <td>0</td>\n",
              "      <td>No</td>\n",
              "      <td>No</td>\n",
              "      <td>16</td>\n",
              "      <td>Yes</td>\n",
              "      <td>No</td>\n",
              "      <td>No</td>\n",
              "      <td>No</td>\n",
              "      <td>No</td>\n",
              "      <td>No</td>\n",
              "      <td>No</td>\n",
              "      <td>No</td>\n",
              "      <td>No</td>\n",
              "      <td>Two year</td>\n",
              "      <td>No</td>\n",
              "      <td>Credit card (automatic)</td>\n",
              "      <td>18.95</td>\n",
              "      <td>326.80</td>\n",
              "      <td>No</td>\n",
              "    </tr>\n",
              "    <tr>\n",
              "      <th>12</th>\n",
              "      <td>Male</td>\n",
              "      <td>0</td>\n",
              "      <td>Yes</td>\n",
              "      <td>No</td>\n",
              "      <td>58</td>\n",
              "      <td>Yes</td>\n",
              "      <td>Yes</td>\n",
              "      <td>Fiber optic</td>\n",
              "      <td>No</td>\n",
              "      <td>No</td>\n",
              "      <td>Yes</td>\n",
              "      <td>No</td>\n",
              "      <td>Yes</td>\n",
              "      <td>Yes</td>\n",
              "      <td>One year</td>\n",
              "      <td>No</td>\n",
              "      <td>Credit card (automatic)</td>\n",
              "      <td>100.35</td>\n",
              "      <td>5681.10</td>\n",
              "      <td>No</td>\n",
              "    </tr>\n",
              "    <tr>\n",
              "      <th>13</th>\n",
              "      <td>Male</td>\n",
              "      <td>0</td>\n",
              "      <td>No</td>\n",
              "      <td>No</td>\n",
              "      <td>49</td>\n",
              "      <td>Yes</td>\n",
              "      <td>Yes</td>\n",
              "      <td>Fiber optic</td>\n",
              "      <td>No</td>\n",
              "      <td>Yes</td>\n",
              "      <td>Yes</td>\n",
              "      <td>No</td>\n",
              "      <td>Yes</td>\n",
              "      <td>Yes</td>\n",
              "      <td>Month-to-month</td>\n",
              "      <td>Yes</td>\n",
              "      <td>Bank transfer (automatic)</td>\n",
              "      <td>103.70</td>\n",
              "      <td>5036.30</td>\n",
              "      <td>Yes</td>\n",
              "    </tr>\n",
              "    <tr>\n",
              "      <th>14</th>\n",
              "      <td>Male</td>\n",
              "      <td>0</td>\n",
              "      <td>No</td>\n",
              "      <td>No</td>\n",
              "      <td>25</td>\n",
              "      <td>Yes</td>\n",
              "      <td>No</td>\n",
              "      <td>Fiber optic</td>\n",
              "      <td>Yes</td>\n",
              "      <td>No</td>\n",
              "      <td>Yes</td>\n",
              "      <td>Yes</td>\n",
              "      <td>Yes</td>\n",
              "      <td>Yes</td>\n",
              "      <td>Month-to-month</td>\n",
              "      <td>Yes</td>\n",
              "      <td>Electronic check</td>\n",
              "      <td>105.50</td>\n",
              "      <td>2686.05</td>\n",
              "      <td>No</td>\n",
              "    </tr>\n",
              "    <tr>\n",
              "      <th>15</th>\n",
              "      <td>Female</td>\n",
              "      <td>0</td>\n",
              "      <td>Yes</td>\n",
              "      <td>Yes</td>\n",
              "      <td>69</td>\n",
              "      <td>Yes</td>\n",
              "      <td>Yes</td>\n",
              "      <td>Fiber optic</td>\n",
              "      <td>Yes</td>\n",
              "      <td>Yes</td>\n",
              "      <td>Yes</td>\n",
              "      <td>Yes</td>\n",
              "      <td>Yes</td>\n",
              "      <td>Yes</td>\n",
              "      <td>Two year</td>\n",
              "      <td>No</td>\n",
              "      <td>Credit card (automatic)</td>\n",
              "      <td>113.25</td>\n",
              "      <td>7895.15</td>\n",
              "      <td>No</td>\n",
              "    </tr>\n",
              "    <tr>\n",
              "      <th>16</th>\n",
              "      <td>Female</td>\n",
              "      <td>0</td>\n",
              "      <td>No</td>\n",
              "      <td>No</td>\n",
              "      <td>52</td>\n",
              "      <td>Yes</td>\n",
              "      <td>No</td>\n",
              "      <td>No</td>\n",
              "      <td>No</td>\n",
              "      <td>No</td>\n",
              "      <td>No</td>\n",
              "      <td>No</td>\n",
              "      <td>No</td>\n",
              "      <td>No</td>\n",
              "      <td>One year</td>\n",
              "      <td>No</td>\n",
              "      <td>Mailed check</td>\n",
              "      <td>20.65</td>\n",
              "      <td>1022.95</td>\n",
              "      <td>No</td>\n",
              "    </tr>\n",
              "    <tr>\n",
              "      <th>17</th>\n",
              "      <td>Male</td>\n",
              "      <td>0</td>\n",
              "      <td>No</td>\n",
              "      <td>Yes</td>\n",
              "      <td>71</td>\n",
              "      <td>Yes</td>\n",
              "      <td>Yes</td>\n",
              "      <td>Fiber optic</td>\n",
              "      <td>Yes</td>\n",
              "      <td>No</td>\n",
              "      <td>Yes</td>\n",
              "      <td>No</td>\n",
              "      <td>Yes</td>\n",
              "      <td>Yes</td>\n",
              "      <td>Two year</td>\n",
              "      <td>No</td>\n",
              "      <td>Bank transfer (automatic)</td>\n",
              "      <td>106.70</td>\n",
              "      <td>7382.25</td>\n",
              "      <td>No</td>\n",
              "    </tr>\n",
              "    <tr>\n",
              "      <th>18</th>\n",
              "      <td>Female</td>\n",
              "      <td>0</td>\n",
              "      <td>Yes</td>\n",
              "      <td>Yes</td>\n",
              "      <td>10</td>\n",
              "      <td>Yes</td>\n",
              "      <td>No</td>\n",
              "      <td>DSL</td>\n",
              "      <td>No</td>\n",
              "      <td>No</td>\n",
              "      <td>Yes</td>\n",
              "      <td>Yes</td>\n",
              "      <td>No</td>\n",
              "      <td>No</td>\n",
              "      <td>Month-to-month</td>\n",
              "      <td>No</td>\n",
              "      <td>Credit card (automatic)</td>\n",
              "      <td>55.20</td>\n",
              "      <td>528.35</td>\n",
              "      <td>Yes</td>\n",
              "    </tr>\n",
              "    <tr>\n",
              "      <th>19</th>\n",
              "      <td>Female</td>\n",
              "      <td>0</td>\n",
              "      <td>No</td>\n",
              "      <td>No</td>\n",
              "      <td>21</td>\n",
              "      <td>Yes</td>\n",
              "      <td>No</td>\n",
              "      <td>Fiber optic</td>\n",
              "      <td>No</td>\n",
              "      <td>Yes</td>\n",
              "      <td>Yes</td>\n",
              "      <td>No</td>\n",
              "      <td>No</td>\n",
              "      <td>Yes</td>\n",
              "      <td>Month-to-month</td>\n",
              "      <td>Yes</td>\n",
              "      <td>Electronic check</td>\n",
              "      <td>90.05</td>\n",
              "      <td>1862.90</td>\n",
              "      <td>No</td>\n",
              "    </tr>\n",
              "  </tbody>\n",
              "</table>\n",
              "</div>"
            ],
            "text/plain": [
              "    gender  SeniorCitizen Partner Dependents  tenure PhoneService  \\\n",
              "0   Female              0     Yes         No       1           No   \n",
              "1     Male              0      No         No      34          Yes   \n",
              "2     Male              0      No         No       2          Yes   \n",
              "3     Male              0      No         No      45           No   \n",
              "4   Female              0      No         No       2          Yes   \n",
              "5   Female              0      No         No       8          Yes   \n",
              "6     Male              0      No        Yes      22          Yes   \n",
              "7   Female              0      No         No      10           No   \n",
              "8   Female              0     Yes         No      28          Yes   \n",
              "9     Male              0      No        Yes      62          Yes   \n",
              "10    Male              0     Yes        Yes      13          Yes   \n",
              "11    Male              0      No         No      16          Yes   \n",
              "12    Male              0     Yes         No      58          Yes   \n",
              "13    Male              0      No         No      49          Yes   \n",
              "14    Male              0      No         No      25          Yes   \n",
              "15  Female              0     Yes        Yes      69          Yes   \n",
              "16  Female              0      No         No      52          Yes   \n",
              "17    Male              0      No        Yes      71          Yes   \n",
              "18  Female              0     Yes        Yes      10          Yes   \n",
              "19  Female              0      No         No      21          Yes   \n",
              "\n",
              "   MultipleLines InternetService OnlineSecurity OnlineBackup DeviceProtection  \\\n",
              "0             No             DSL             No          Yes               No   \n",
              "1             No             DSL            Yes           No              Yes   \n",
              "2             No             DSL            Yes          Yes               No   \n",
              "3             No             DSL            Yes           No              Yes   \n",
              "4             No     Fiber optic             No           No               No   \n",
              "5            Yes     Fiber optic             No           No              Yes   \n",
              "6            Yes     Fiber optic             No          Yes               No   \n",
              "7             No             DSL            Yes           No               No   \n",
              "8            Yes     Fiber optic             No           No              Yes   \n",
              "9             No             DSL            Yes          Yes               No   \n",
              "10            No             DSL            Yes           No               No   \n",
              "11            No              No             No           No               No   \n",
              "12           Yes     Fiber optic             No           No              Yes   \n",
              "13           Yes     Fiber optic             No          Yes              Yes   \n",
              "14            No     Fiber optic            Yes           No              Yes   \n",
              "15           Yes     Fiber optic            Yes          Yes              Yes   \n",
              "16            No              No             No           No               No   \n",
              "17           Yes     Fiber optic            Yes           No              Yes   \n",
              "18            No             DSL             No           No              Yes   \n",
              "19            No     Fiber optic             No          Yes              Yes   \n",
              "\n",
              "   TechSupport StreamingTV StreamingMovies        Contract PaperlessBilling  \\\n",
              "0           No          No              No  Month-to-month              Yes   \n",
              "1           No          No              No        One year               No   \n",
              "2           No          No              No  Month-to-month              Yes   \n",
              "3          Yes          No              No        One year               No   \n",
              "4           No          No              No  Month-to-month              Yes   \n",
              "5           No         Yes             Yes  Month-to-month              Yes   \n",
              "6           No         Yes              No  Month-to-month              Yes   \n",
              "7           No          No              No  Month-to-month               No   \n",
              "8          Yes         Yes             Yes  Month-to-month              Yes   \n",
              "9           No          No              No        One year               No   \n",
              "10          No          No              No  Month-to-month              Yes   \n",
              "11          No          No              No        Two year               No   \n",
              "12          No         Yes             Yes        One year               No   \n",
              "13          No         Yes             Yes  Month-to-month              Yes   \n",
              "14         Yes         Yes             Yes  Month-to-month              Yes   \n",
              "15         Yes         Yes             Yes        Two year               No   \n",
              "16          No          No              No        One year               No   \n",
              "17          No         Yes             Yes        Two year               No   \n",
              "18         Yes          No              No  Month-to-month               No   \n",
              "19          No          No             Yes  Month-to-month              Yes   \n",
              "\n",
              "                PaymentMethod  MonthlyCharges  TotalCharges Churn  \n",
              "0            Electronic check           29.85         29.85    No  \n",
              "1                Mailed check           56.95       1889.50    No  \n",
              "2                Mailed check           53.85        108.15   Yes  \n",
              "3   Bank transfer (automatic)           42.30       1840.75    No  \n",
              "4            Electronic check           70.70        151.65   Yes  \n",
              "5            Electronic check           99.65        820.50   Yes  \n",
              "6     Credit card (automatic)           89.10       1949.40    No  \n",
              "7                Mailed check           29.75        301.90    No  \n",
              "8            Electronic check          104.80       3046.05   Yes  \n",
              "9   Bank transfer (automatic)           56.15       3487.95    No  \n",
              "10               Mailed check           49.95        587.45    No  \n",
              "11    Credit card (automatic)           18.95        326.80    No  \n",
              "12    Credit card (automatic)          100.35       5681.10    No  \n",
              "13  Bank transfer (automatic)          103.70       5036.30   Yes  \n",
              "14           Electronic check          105.50       2686.05    No  \n",
              "15    Credit card (automatic)          113.25       7895.15    No  \n",
              "16               Mailed check           20.65       1022.95    No  \n",
              "17  Bank transfer (automatic)          106.70       7382.25    No  \n",
              "18    Credit card (automatic)           55.20        528.35   Yes  \n",
              "19           Electronic check           90.05       1862.90    No  "
            ]
          },
          "execution_count": 15,
          "metadata": {},
          "output_type": "execute_result"
        }
      ],
      "source": [
        "data.head(20)"
      ]
    },
    {
      "cell_type": "markdown",
      "metadata": {
        "id": "8rFCnFFDSWJ_"
      },
      "source": [
        "Hot encoding"
      ]
    },
    {
      "cell_type": "code",
      "execution_count": null,
      "metadata": {
        "id": "67mDjz2bSWKA",
        "outputId": "b47d3a3a-898c-4410-8d8f-696baa0a8b44"
      },
      "outputs": [
        {
          "data": {
            "text/plain": [
              "0               DSL\n",
              "1               DSL\n",
              "2               DSL\n",
              "3               DSL\n",
              "4       Fiber optic\n",
              "           ...     \n",
              "7038            DSL\n",
              "7039    Fiber optic\n",
              "7040            DSL\n",
              "7041    Fiber optic\n",
              "7042    Fiber optic\n",
              "Name: InternetService, Length: 7032, dtype: object"
            ]
          },
          "execution_count": 16,
          "metadata": {},
          "output_type": "execute_result"
        }
      ],
      "source": [
        "data.InternetService"
      ]
    },
    {
      "cell_type": "code",
      "execution_count": null,
      "metadata": {
        "id": "Ly_xl06mSWKA",
        "outputId": "d0aee6b4-45a3-437b-d677-db66fc4c0695"
      },
      "outputs": [
        {
          "name": "stdout",
          "output_type": "stream",
          "text": [
            "      DSL  Fiber optic  No\n",
            "0       1            0   0\n",
            "1       1            0   0\n",
            "2       1            0   0\n",
            "3       1            0   0\n",
            "4       0            1   0\n",
            "...   ...          ...  ..\n",
            "7038    1            0   0\n",
            "7039    0            1   0\n",
            "7040    1            0   0\n",
            "7041    0            1   0\n",
            "7042    0            1   0\n",
            "\n",
            "[7032 rows x 3 columns]\n"
          ]
        }
      ],
      "source": [
        "dummy_status = pd.get_dummies(data.InternetService)\n",
        "print(dummy_status)"
      ]
    },
    {
      "cell_type": "code",
      "execution_count": null,
      "metadata": {
        "id": "YurcgVGlSWKA",
        "outputId": "0b5d4764-75d3-4089-f8d0-b951d984bd10"
      },
      "outputs": [
        {
          "name": "stdout",
          "output_type": "stream",
          "text": [
            "      gender  SeniorCitizen Partner Dependents  tenure PhoneService  \\\n",
            "0     Female              0     Yes         No       1           No   \n",
            "1       Male              0      No         No      34          Yes   \n",
            "2       Male              0      No         No       2          Yes   \n",
            "3       Male              0      No         No      45           No   \n",
            "4     Female              0      No         No       2          Yes   \n",
            "...      ...            ...     ...        ...     ...          ...   \n",
            "7038    Male              0     Yes        Yes      24          Yes   \n",
            "7039  Female              0     Yes        Yes      72          Yes   \n",
            "7040  Female              0     Yes        Yes      11           No   \n",
            "7041    Male              1     Yes         No       4          Yes   \n",
            "7042    Male              0      No         No      66          Yes   \n",
            "\n",
            "     MultipleLines InternetService OnlineSecurity OnlineBackup  ...  \\\n",
            "0               No             DSL             No          Yes  ...   \n",
            "1               No             DSL            Yes           No  ...   \n",
            "2               No             DSL            Yes          Yes  ...   \n",
            "3               No             DSL            Yes           No  ...   \n",
            "4               No     Fiber optic             No           No  ...   \n",
            "...            ...             ...            ...          ...  ...   \n",
            "7038           Yes             DSL            Yes           No  ...   \n",
            "7039           Yes     Fiber optic             No          Yes  ...   \n",
            "7040            No             DSL            Yes           No  ...   \n",
            "7041           Yes     Fiber optic             No           No  ...   \n",
            "7042            No     Fiber optic            Yes           No  ...   \n",
            "\n",
            "     StreamingMovies        Contract PaperlessBilling  \\\n",
            "0                 No  Month-to-month              Yes   \n",
            "1                 No        One year               No   \n",
            "2                 No  Month-to-month              Yes   \n",
            "3                 No        One year               No   \n",
            "4                 No  Month-to-month              Yes   \n",
            "...              ...             ...              ...   \n",
            "7038             Yes        One year              Yes   \n",
            "7039             Yes        One year              Yes   \n",
            "7040              No  Month-to-month              Yes   \n",
            "7041              No  Month-to-month              Yes   \n",
            "7042             Yes        Two year              Yes   \n",
            "\n",
            "                  PaymentMethod MonthlyCharges TotalCharges Churn  DSL  \\\n",
            "0              Electronic check          29.85        29.85    No    1   \n",
            "1                  Mailed check          56.95      1889.50    No    1   \n",
            "2                  Mailed check          53.85       108.15   Yes    1   \n",
            "3     Bank transfer (automatic)          42.30      1840.75    No    1   \n",
            "4              Electronic check          70.70       151.65   Yes    0   \n",
            "...                         ...            ...          ...   ...  ...   \n",
            "7038               Mailed check          84.80      1990.50    No    1   \n",
            "7039    Credit card (automatic)         103.20      7362.90    No    0   \n",
            "7040           Electronic check          29.60       346.45    No    1   \n",
            "7041               Mailed check          74.40       306.60   Yes    0   \n",
            "7042  Bank transfer (automatic)         105.65      6844.50    No    0   \n",
            "\n",
            "      Fiber optic No  \n",
            "0               0  0  \n",
            "1               0  0  \n",
            "2               0  0  \n",
            "3               0  0  \n",
            "4               1  0  \n",
            "...           ... ..  \n",
            "7038            0  0  \n",
            "7039            1  0  \n",
            "7040            0  0  \n",
            "7041            1  0  \n",
            "7042            1  0  \n",
            "\n",
            "[7032 rows x 23 columns]\n"
          ]
        }
      ],
      "source": [
        "df = pd.merge(\n",
        "    left=data,\n",
        "    right=dummy_status,\n",
        "    left_index=True,\n",
        "    right_index=True,\n",
        ")\n",
        "print(df)"
      ]
    },
    {
      "cell_type": "code",
      "execution_count": null,
      "metadata": {
        "id": "YZ2A0gE3SWKB",
        "outputId": "62244f8c-73b8-4803-dff6-875ff28a39ac"
      },
      "outputs": [
        {
          "data": {
            "text/plain": [
              "0       Month-to-month\n",
              "1             One year\n",
              "2       Month-to-month\n",
              "3             One year\n",
              "4       Month-to-month\n",
              "             ...      \n",
              "7038          One year\n",
              "7039          One year\n",
              "7040    Month-to-month\n",
              "7041    Month-to-month\n",
              "7042          Two year\n",
              "Name: Contract, Length: 7032, dtype: object"
            ]
          },
          "execution_count": 19,
          "metadata": {},
          "output_type": "execute_result"
        }
      ],
      "source": [
        "data.Contract"
      ]
    },
    {
      "cell_type": "code",
      "execution_count": null,
      "metadata": {
        "id": "f5nuIV5OSWKB",
        "outputId": "b5043a0a-e90a-4f7a-b7f6-c87cbb04c4df"
      },
      "outputs": [
        {
          "name": "stdout",
          "output_type": "stream",
          "text": [
            "      Month-to-month  One year  Two year\n",
            "0                  1         0         0\n",
            "1                  0         1         0\n",
            "2                  1         0         0\n",
            "3                  0         1         0\n",
            "4                  1         0         0\n",
            "...              ...       ...       ...\n",
            "7038               0         1         0\n",
            "7039               0         1         0\n",
            "7040               1         0         0\n",
            "7041               1         0         0\n",
            "7042               0         0         1\n",
            "\n",
            "[7032 rows x 3 columns]\n"
          ]
        }
      ],
      "source": [
        "dummy_status = pd.get_dummies(data.Contract)\n",
        "print(dummy_status)"
      ]
    },
    {
      "cell_type": "code",
      "execution_count": null,
      "metadata": {
        "id": "oVf2dS5vSWKB",
        "outputId": "2f90172a-e06b-406c-e203-850b02cb5cc7"
      },
      "outputs": [
        {
          "name": "stdout",
          "output_type": "stream",
          "text": [
            "      gender  SeniorCitizen Partner Dependents  tenure PhoneService  \\\n",
            "0     Female              0     Yes         No       1           No   \n",
            "1       Male              0      No         No      34          Yes   \n",
            "2       Male              0      No         No       2          Yes   \n",
            "3       Male              0      No         No      45           No   \n",
            "4     Female              0      No         No       2          Yes   \n",
            "...      ...            ...     ...        ...     ...          ...   \n",
            "7038    Male              0     Yes        Yes      24          Yes   \n",
            "7039  Female              0     Yes        Yes      72          Yes   \n",
            "7040  Female              0     Yes        Yes      11           No   \n",
            "7041    Male              1     Yes         No       4          Yes   \n",
            "7042    Male              0      No         No      66          Yes   \n",
            "\n",
            "     MultipleLines InternetService OnlineSecurity OnlineBackup  ...  \\\n",
            "0               No             DSL             No          Yes  ...   \n",
            "1               No             DSL            Yes           No  ...   \n",
            "2               No             DSL            Yes          Yes  ...   \n",
            "3               No             DSL            Yes           No  ...   \n",
            "4               No     Fiber optic             No           No  ...   \n",
            "...            ...             ...            ...          ...  ...   \n",
            "7038           Yes             DSL            Yes           No  ...   \n",
            "7039           Yes     Fiber optic             No          Yes  ...   \n",
            "7040            No             DSL            Yes           No  ...   \n",
            "7041           Yes     Fiber optic             No           No  ...   \n",
            "7042            No     Fiber optic            Yes           No  ...   \n",
            "\n",
            "                  PaymentMethod MonthlyCharges TotalCharges Churn DSL  \\\n",
            "0              Electronic check          29.85        29.85    No   1   \n",
            "1                  Mailed check          56.95      1889.50    No   1   \n",
            "2                  Mailed check          53.85       108.15   Yes   1   \n",
            "3     Bank transfer (automatic)          42.30      1840.75    No   1   \n",
            "4              Electronic check          70.70       151.65   Yes   0   \n",
            "...                         ...            ...          ...   ...  ..   \n",
            "7038               Mailed check          84.80      1990.50    No   1   \n",
            "7039    Credit card (automatic)         103.20      7362.90    No   0   \n",
            "7040           Electronic check          29.60       346.45    No   1   \n",
            "7041               Mailed check          74.40       306.60   Yes   0   \n",
            "7042  Bank transfer (automatic)         105.65      6844.50    No   0   \n",
            "\n",
            "     Fiber optic No  Month-to-month  One year Two year  \n",
            "0              0  0               1         0        0  \n",
            "1              0  0               0         1        0  \n",
            "2              0  0               1         0        0  \n",
            "3              0  0               0         1        0  \n",
            "4              1  0               1         0        0  \n",
            "...          ... ..             ...       ...      ...  \n",
            "7038           0  0               0         1        0  \n",
            "7039           1  0               0         1        0  \n",
            "7040           0  0               1         0        0  \n",
            "7041           1  0               1         0        0  \n",
            "7042           1  0               0         0        1  \n",
            "\n",
            "[7032 rows x 26 columns]\n"
          ]
        }
      ],
      "source": [
        "df = pd.merge(\n",
        "    left=df,\n",
        "    right=dummy_status,\n",
        "    left_index=True,\n",
        "    right_index=True,\n",
        ")\n",
        "print(df)"
      ]
    },
    {
      "cell_type": "code",
      "execution_count": null,
      "metadata": {
        "id": "DbtNKqJ6SWKB",
        "outputId": "4efc9a01-b887-44da-d294-51589df0abcd"
      },
      "outputs": [
        {
          "data": {
            "text/plain": [
              "0                Electronic check\n",
              "1                    Mailed check\n",
              "2                    Mailed check\n",
              "3       Bank transfer (automatic)\n",
              "4                Electronic check\n",
              "                  ...            \n",
              "7038                 Mailed check\n",
              "7039      Credit card (automatic)\n",
              "7040             Electronic check\n",
              "7041                 Mailed check\n",
              "7042    Bank transfer (automatic)\n",
              "Name: PaymentMethod, Length: 7032, dtype: object"
            ]
          },
          "execution_count": 22,
          "metadata": {},
          "output_type": "execute_result"
        }
      ],
      "source": [
        "data.PaymentMethod"
      ]
    },
    {
      "cell_type": "code",
      "execution_count": null,
      "metadata": {
        "id": "TPcnBlzMSWKB",
        "outputId": "89f1df7b-c022-4fc7-a01c-f4d5a789efbd"
      },
      "outputs": [
        {
          "name": "stdout",
          "output_type": "stream",
          "text": [
            "      Bank transfer (automatic)  Credit card (automatic)  Electronic check  \\\n",
            "0                             0                        0                 1   \n",
            "1                             0                        0                 0   \n",
            "2                             0                        0                 0   \n",
            "3                             1                        0                 0   \n",
            "4                             0                        0                 1   \n",
            "...                         ...                      ...               ...   \n",
            "7038                          0                        0                 0   \n",
            "7039                          0                        1                 0   \n",
            "7040                          0                        0                 1   \n",
            "7041                          0                        0                 0   \n",
            "7042                          1                        0                 0   \n",
            "\n",
            "      Mailed check  \n",
            "0                0  \n",
            "1                1  \n",
            "2                1  \n",
            "3                0  \n",
            "4                0  \n",
            "...            ...  \n",
            "7038             1  \n",
            "7039             0  \n",
            "7040             0  \n",
            "7041             1  \n",
            "7042             0  \n",
            "\n",
            "[7032 rows x 4 columns]\n"
          ]
        }
      ],
      "source": [
        "dummy_status = pd.get_dummies(data.PaymentMethod)\n",
        "print(dummy_status)"
      ]
    },
    {
      "cell_type": "code",
      "execution_count": null,
      "metadata": {
        "id": "HoZSHhQNSWKB",
        "outputId": "1ad769be-d501-4473-e977-c45cd176aecb"
      },
      "outputs": [
        {
          "name": "stdout",
          "output_type": "stream",
          "text": [
            "      gender  SeniorCitizen Partner Dependents  tenure PhoneService  \\\n",
            "0     Female              0     Yes         No       1           No   \n",
            "1       Male              0      No         No      34          Yes   \n",
            "2       Male              0      No         No       2          Yes   \n",
            "3       Male              0      No         No      45           No   \n",
            "4     Female              0      No         No       2          Yes   \n",
            "...      ...            ...     ...        ...     ...          ...   \n",
            "7038    Male              0     Yes        Yes      24          Yes   \n",
            "7039  Female              0     Yes        Yes      72          Yes   \n",
            "7040  Female              0     Yes        Yes      11           No   \n",
            "7041    Male              1     Yes         No       4          Yes   \n",
            "7042    Male              0      No         No      66          Yes   \n",
            "\n",
            "     MultipleLines InternetService OnlineSecurity OnlineBackup  ... DSL  \\\n",
            "0               No             DSL             No          Yes  ...   1   \n",
            "1               No             DSL            Yes           No  ...   1   \n",
            "2               No             DSL            Yes          Yes  ...   1   \n",
            "3               No             DSL            Yes           No  ...   1   \n",
            "4               No     Fiber optic             No           No  ...   0   \n",
            "...            ...             ...            ...          ...  ...  ..   \n",
            "7038           Yes             DSL            Yes           No  ...   1   \n",
            "7039           Yes     Fiber optic             No          Yes  ...   0   \n",
            "7040            No             DSL            Yes           No  ...   1   \n",
            "7041           Yes     Fiber optic             No           No  ...   0   \n",
            "7042            No     Fiber optic            Yes           No  ...   0   \n",
            "\n",
            "     Fiber optic No Month-to-month One year Two year  \\\n",
            "0              0  0              1        0        0   \n",
            "1              0  0              0        1        0   \n",
            "2              0  0              1        0        0   \n",
            "3              0  0              0        1        0   \n",
            "4              1  0              1        0        0   \n",
            "...          ... ..            ...      ...      ...   \n",
            "7038           0  0              0        1        0   \n",
            "7039           1  0              0        1        0   \n",
            "7040           0  0              1        0        0   \n",
            "7041           1  0              1        0        0   \n",
            "7042           1  0              0        0        1   \n",
            "\n",
            "     Bank transfer (automatic)  Credit card (automatic)  Electronic check  \\\n",
            "0                            0                        0                 1   \n",
            "1                            0                        0                 0   \n",
            "2                            0                        0                 0   \n",
            "3                            1                        0                 0   \n",
            "4                            0                        0                 1   \n",
            "...                        ...                      ...               ...   \n",
            "7038                         0                        0                 0   \n",
            "7039                         0                        1                 0   \n",
            "7040                         0                        0                 1   \n",
            "7041                         0                        0                 0   \n",
            "7042                         1                        0                 0   \n",
            "\n",
            "     Mailed check  \n",
            "0               0  \n",
            "1               1  \n",
            "2               1  \n",
            "3               0  \n",
            "4               0  \n",
            "...           ...  \n",
            "7038            1  \n",
            "7039            0  \n",
            "7040            0  \n",
            "7041            1  \n",
            "7042            0  \n",
            "\n",
            "[7032 rows x 30 columns]\n"
          ]
        }
      ],
      "source": [
        "df = pd.merge(\n",
        "    left=df,\n",
        "    right=dummy_status,\n",
        "    left_index=True,\n",
        "    right_index=True,\n",
        ")\n",
        "print(df)"
      ]
    },
    {
      "cell_type": "code",
      "execution_count": null,
      "metadata": {
        "id": "65dKwg2tSWKB"
      },
      "outputs": [],
      "source": [
        "#drop columns with more than two categories and Churn to be added at the end\n",
        "df1=df.drop(['InternetService', 'Contract', 'PaymentMethod', 'Churn'], axis=1)"
      ]
    },
    {
      "cell_type": "code",
      "execution_count": null,
      "metadata": {
        "id": "XFBLKUCpSWKB",
        "outputId": "286170ba-1cf0-4d6e-c775-94d0f9193745"
      },
      "outputs": [
        {
          "data": {
            "text/html": [
              "<div>\n",
              "<style scoped>\n",
              "    .dataframe tbody tr th:only-of-type {\n",
              "        vertical-align: middle;\n",
              "    }\n",
              "\n",
              "    .dataframe tbody tr th {\n",
              "        vertical-align: top;\n",
              "    }\n",
              "\n",
              "    .dataframe thead th {\n",
              "        text-align: right;\n",
              "    }\n",
              "</style>\n",
              "<table border=\"1\" class=\"dataframe\">\n",
              "  <thead>\n",
              "    <tr style=\"text-align: right;\">\n",
              "      <th></th>\n",
              "      <th>gender</th>\n",
              "      <th>SeniorCitizen</th>\n",
              "      <th>Partner</th>\n",
              "      <th>Dependents</th>\n",
              "      <th>tenure</th>\n",
              "      <th>PhoneService</th>\n",
              "      <th>MultipleLines</th>\n",
              "      <th>OnlineSecurity</th>\n",
              "      <th>OnlineBackup</th>\n",
              "      <th>DeviceProtection</th>\n",
              "      <th>...</th>\n",
              "      <th>DSL</th>\n",
              "      <th>Fiber optic</th>\n",
              "      <th>No</th>\n",
              "      <th>Month-to-month</th>\n",
              "      <th>One year</th>\n",
              "      <th>Two year</th>\n",
              "      <th>Bank transfer (automatic)</th>\n",
              "      <th>Credit card (automatic)</th>\n",
              "      <th>Electronic check</th>\n",
              "      <th>Mailed check</th>\n",
              "    </tr>\n",
              "  </thead>\n",
              "  <tbody>\n",
              "    <tr>\n",
              "      <th>count</th>\n",
              "      <td>7032.000000</td>\n",
              "      <td>7032.000000</td>\n",
              "      <td>7032.000000</td>\n",
              "      <td>7032.000000</td>\n",
              "      <td>7032.000000</td>\n",
              "      <td>7032.000000</td>\n",
              "      <td>7032.000000</td>\n",
              "      <td>7032.000000</td>\n",
              "      <td>7032.000000</td>\n",
              "      <td>7032.000000</td>\n",
              "      <td>...</td>\n",
              "      <td>7032.000000</td>\n",
              "      <td>7032.000000</td>\n",
              "      <td>7032.000000</td>\n",
              "      <td>7032.000000</td>\n",
              "      <td>7032.000000</td>\n",
              "      <td>7032.000000</td>\n",
              "      <td>7032.000000</td>\n",
              "      <td>7032.000000</td>\n",
              "      <td>7032.000000</td>\n",
              "      <td>7032.000000</td>\n",
              "    </tr>\n",
              "    <tr>\n",
              "      <th>mean</th>\n",
              "      <td>0.504693</td>\n",
              "      <td>0.162400</td>\n",
              "      <td>0.482509</td>\n",
              "      <td>0.298493</td>\n",
              "      <td>32.421786</td>\n",
              "      <td>0.903299</td>\n",
              "      <td>0.421928</td>\n",
              "      <td>0.286547</td>\n",
              "      <td>0.344852</td>\n",
              "      <td>0.343857</td>\n",
              "      <td>...</td>\n",
              "      <td>0.343572</td>\n",
              "      <td>0.440273</td>\n",
              "      <td>0.216155</td>\n",
              "      <td>0.551052</td>\n",
              "      <td>0.209329</td>\n",
              "      <td>0.239619</td>\n",
              "      <td>0.219283</td>\n",
              "      <td>0.216297</td>\n",
              "      <td>0.336320</td>\n",
              "      <td>0.228100</td>\n",
              "    </tr>\n",
              "    <tr>\n",
              "      <th>std</th>\n",
              "      <td>0.500014</td>\n",
              "      <td>0.368844</td>\n",
              "      <td>0.499729</td>\n",
              "      <td>0.457629</td>\n",
              "      <td>24.545260</td>\n",
              "      <td>0.295571</td>\n",
              "      <td>0.493902</td>\n",
              "      <td>0.452180</td>\n",
              "      <td>0.475354</td>\n",
              "      <td>0.475028</td>\n",
              "      <td>...</td>\n",
              "      <td>0.474934</td>\n",
              "      <td>0.496455</td>\n",
              "      <td>0.411650</td>\n",
              "      <td>0.497422</td>\n",
              "      <td>0.406858</td>\n",
              "      <td>0.426881</td>\n",
              "      <td>0.413790</td>\n",
              "      <td>0.411748</td>\n",
              "      <td>0.472483</td>\n",
              "      <td>0.419637</td>\n",
              "    </tr>\n",
              "    <tr>\n",
              "      <th>min</th>\n",
              "      <td>0.000000</td>\n",
              "      <td>0.000000</td>\n",
              "      <td>0.000000</td>\n",
              "      <td>0.000000</td>\n",
              "      <td>1.000000</td>\n",
              "      <td>0.000000</td>\n",
              "      <td>0.000000</td>\n",
              "      <td>0.000000</td>\n",
              "      <td>0.000000</td>\n",
              "      <td>0.000000</td>\n",
              "      <td>...</td>\n",
              "      <td>0.000000</td>\n",
              "      <td>0.000000</td>\n",
              "      <td>0.000000</td>\n",
              "      <td>0.000000</td>\n",
              "      <td>0.000000</td>\n",
              "      <td>0.000000</td>\n",
              "      <td>0.000000</td>\n",
              "      <td>0.000000</td>\n",
              "      <td>0.000000</td>\n",
              "      <td>0.000000</td>\n",
              "    </tr>\n",
              "    <tr>\n",
              "      <th>25%</th>\n",
              "      <td>0.000000</td>\n",
              "      <td>0.000000</td>\n",
              "      <td>0.000000</td>\n",
              "      <td>0.000000</td>\n",
              "      <td>9.000000</td>\n",
              "      <td>1.000000</td>\n",
              "      <td>0.000000</td>\n",
              "      <td>0.000000</td>\n",
              "      <td>0.000000</td>\n",
              "      <td>0.000000</td>\n",
              "      <td>...</td>\n",
              "      <td>0.000000</td>\n",
              "      <td>0.000000</td>\n",
              "      <td>0.000000</td>\n",
              "      <td>0.000000</td>\n",
              "      <td>0.000000</td>\n",
              "      <td>0.000000</td>\n",
              "      <td>0.000000</td>\n",
              "      <td>0.000000</td>\n",
              "      <td>0.000000</td>\n",
              "      <td>0.000000</td>\n",
              "    </tr>\n",
              "    <tr>\n",
              "      <th>50%</th>\n",
              "      <td>1.000000</td>\n",
              "      <td>0.000000</td>\n",
              "      <td>0.000000</td>\n",
              "      <td>0.000000</td>\n",
              "      <td>29.000000</td>\n",
              "      <td>1.000000</td>\n",
              "      <td>0.000000</td>\n",
              "      <td>0.000000</td>\n",
              "      <td>0.000000</td>\n",
              "      <td>0.000000</td>\n",
              "      <td>...</td>\n",
              "      <td>0.000000</td>\n",
              "      <td>0.000000</td>\n",
              "      <td>0.000000</td>\n",
              "      <td>1.000000</td>\n",
              "      <td>0.000000</td>\n",
              "      <td>0.000000</td>\n",
              "      <td>0.000000</td>\n",
              "      <td>0.000000</td>\n",
              "      <td>0.000000</td>\n",
              "      <td>0.000000</td>\n",
              "    </tr>\n",
              "    <tr>\n",
              "      <th>75%</th>\n",
              "      <td>1.000000</td>\n",
              "      <td>0.000000</td>\n",
              "      <td>1.000000</td>\n",
              "      <td>1.000000</td>\n",
              "      <td>55.000000</td>\n",
              "      <td>1.000000</td>\n",
              "      <td>1.000000</td>\n",
              "      <td>1.000000</td>\n",
              "      <td>1.000000</td>\n",
              "      <td>1.000000</td>\n",
              "      <td>...</td>\n",
              "      <td>1.000000</td>\n",
              "      <td>1.000000</td>\n",
              "      <td>0.000000</td>\n",
              "      <td>1.000000</td>\n",
              "      <td>0.000000</td>\n",
              "      <td>0.000000</td>\n",
              "      <td>0.000000</td>\n",
              "      <td>0.000000</td>\n",
              "      <td>1.000000</td>\n",
              "      <td>0.000000</td>\n",
              "    </tr>\n",
              "    <tr>\n",
              "      <th>max</th>\n",
              "      <td>1.000000</td>\n",
              "      <td>1.000000</td>\n",
              "      <td>1.000000</td>\n",
              "      <td>1.000000</td>\n",
              "      <td>72.000000</td>\n",
              "      <td>1.000000</td>\n",
              "      <td>1.000000</td>\n",
              "      <td>1.000000</td>\n",
              "      <td>1.000000</td>\n",
              "      <td>1.000000</td>\n",
              "      <td>...</td>\n",
              "      <td>1.000000</td>\n",
              "      <td>1.000000</td>\n",
              "      <td>1.000000</td>\n",
              "      <td>1.000000</td>\n",
              "      <td>1.000000</td>\n",
              "      <td>1.000000</td>\n",
              "      <td>1.000000</td>\n",
              "      <td>1.000000</td>\n",
              "      <td>1.000000</td>\n",
              "      <td>1.000000</td>\n",
              "    </tr>\n",
              "  </tbody>\n",
              "</table>\n",
              "<p>8 rows × 26 columns</p>\n",
              "</div>"
            ],
            "text/plain": [
              "            gender  SeniorCitizen      Partner   Dependents       tenure  \\\n",
              "count  7032.000000    7032.000000  7032.000000  7032.000000  7032.000000   \n",
              "mean      0.504693       0.162400     0.482509     0.298493    32.421786   \n",
              "std       0.500014       0.368844     0.499729     0.457629    24.545260   \n",
              "min       0.000000       0.000000     0.000000     0.000000     1.000000   \n",
              "25%       0.000000       0.000000     0.000000     0.000000     9.000000   \n",
              "50%       1.000000       0.000000     0.000000     0.000000    29.000000   \n",
              "75%       1.000000       0.000000     1.000000     1.000000    55.000000   \n",
              "max       1.000000       1.000000     1.000000     1.000000    72.000000   \n",
              "\n",
              "       PhoneService  MultipleLines  OnlineSecurity  OnlineBackup  \\\n",
              "count   7032.000000    7032.000000     7032.000000   7032.000000   \n",
              "mean       0.903299       0.421928        0.286547      0.344852   \n",
              "std        0.295571       0.493902        0.452180      0.475354   \n",
              "min        0.000000       0.000000        0.000000      0.000000   \n",
              "25%        1.000000       0.000000        0.000000      0.000000   \n",
              "50%        1.000000       0.000000        0.000000      0.000000   \n",
              "75%        1.000000       1.000000        1.000000      1.000000   \n",
              "max        1.000000       1.000000        1.000000      1.000000   \n",
              "\n",
              "       DeviceProtection  ...          DSL  Fiber optic           No  \\\n",
              "count       7032.000000  ...  7032.000000  7032.000000  7032.000000   \n",
              "mean           0.343857  ...     0.343572     0.440273     0.216155   \n",
              "std            0.475028  ...     0.474934     0.496455     0.411650   \n",
              "min            0.000000  ...     0.000000     0.000000     0.000000   \n",
              "25%            0.000000  ...     0.000000     0.000000     0.000000   \n",
              "50%            0.000000  ...     0.000000     0.000000     0.000000   \n",
              "75%            1.000000  ...     1.000000     1.000000     0.000000   \n",
              "max            1.000000  ...     1.000000     1.000000     1.000000   \n",
              "\n",
              "       Month-to-month     One year     Two year  Bank transfer (automatic)  \\\n",
              "count     7032.000000  7032.000000  7032.000000                7032.000000   \n",
              "mean         0.551052     0.209329     0.239619                   0.219283   \n",
              "std          0.497422     0.406858     0.426881                   0.413790   \n",
              "min          0.000000     0.000000     0.000000                   0.000000   \n",
              "25%          0.000000     0.000000     0.000000                   0.000000   \n",
              "50%          1.000000     0.000000     0.000000                   0.000000   \n",
              "75%          1.000000     0.000000     0.000000                   0.000000   \n",
              "max          1.000000     1.000000     1.000000                   1.000000   \n",
              "\n",
              "       Credit card (automatic)  Electronic check  Mailed check  \n",
              "count              7032.000000       7032.000000   7032.000000  \n",
              "mean                  0.216297          0.336320      0.228100  \n",
              "std                   0.411748          0.472483      0.419637  \n",
              "min                   0.000000          0.000000      0.000000  \n",
              "25%                   0.000000          0.000000      0.000000  \n",
              "50%                   0.000000          0.000000      0.000000  \n",
              "75%                   0.000000          1.000000      0.000000  \n",
              "max                   1.000000          1.000000      1.000000  \n",
              "\n",
              "[8 rows x 26 columns]"
            ]
          },
          "execution_count": 26,
          "metadata": {},
          "output_type": "execute_result"
        }
      ],
      "source": [
        "# convert to numeric\n",
        "objList = df1.select_dtypes(include = \"object\").columns\n",
        "le = preprocessing.LabelEncoder()\n",
        "\n",
        "df1[objList] = df1[objList].apply(le.fit_transform)\n",
        "df1.describe()"
      ]
    },
    {
      "cell_type": "code",
      "execution_count": null,
      "metadata": {
        "id": "UbocsuwhSWKC"
      },
      "outputs": [],
      "source": [
        "#scale data\n",
        "scale = preprocessing.MinMaxScaler()\n",
        "df1 = pd.DataFrame(scale.fit_transform(df1.values), columns=df1.columns, index=df1.index)"
      ]
    },
    {
      "cell_type": "code",
      "execution_count": null,
      "metadata": {
        "id": "UjlbVcfQSWKC",
        "outputId": "68c26f95-e9d9-47f5-fd85-5eafdf7439f0"
      },
      "outputs": [
        {
          "data": {
            "text/html": [
              "<div>\n",
              "<style scoped>\n",
              "    .dataframe tbody tr th:only-of-type {\n",
              "        vertical-align: middle;\n",
              "    }\n",
              "\n",
              "    .dataframe tbody tr th {\n",
              "        vertical-align: top;\n",
              "    }\n",
              "\n",
              "    .dataframe thead th {\n",
              "        text-align: right;\n",
              "    }\n",
              "</style>\n",
              "<table border=\"1\" class=\"dataframe\">\n",
              "  <thead>\n",
              "    <tr style=\"text-align: right;\">\n",
              "      <th></th>\n",
              "      <th>gender</th>\n",
              "      <th>SeniorCitizen</th>\n",
              "      <th>Partner</th>\n",
              "      <th>Dependents</th>\n",
              "      <th>tenure</th>\n",
              "      <th>PhoneService</th>\n",
              "      <th>MultipleLines</th>\n",
              "      <th>OnlineSecurity</th>\n",
              "      <th>OnlineBackup</th>\n",
              "      <th>DeviceProtection</th>\n",
              "      <th>...</th>\n",
              "      <th>DSL</th>\n",
              "      <th>Fiber optic</th>\n",
              "      <th>No</th>\n",
              "      <th>Month-to-month</th>\n",
              "      <th>One year</th>\n",
              "      <th>Two year</th>\n",
              "      <th>Bank transfer (automatic)</th>\n",
              "      <th>Credit card (automatic)</th>\n",
              "      <th>Electronic check</th>\n",
              "      <th>Mailed check</th>\n",
              "    </tr>\n",
              "  </thead>\n",
              "  <tbody>\n",
              "    <tr>\n",
              "      <th>0</th>\n",
              "      <td>0.0</td>\n",
              "      <td>0.0</td>\n",
              "      <td>1.0</td>\n",
              "      <td>0.0</td>\n",
              "      <td>0.000000</td>\n",
              "      <td>0.0</td>\n",
              "      <td>0.0</td>\n",
              "      <td>0.0</td>\n",
              "      <td>1.0</td>\n",
              "      <td>0.0</td>\n",
              "      <td>...</td>\n",
              "      <td>1.0</td>\n",
              "      <td>0.0</td>\n",
              "      <td>0.0</td>\n",
              "      <td>1.0</td>\n",
              "      <td>0.0</td>\n",
              "      <td>0.0</td>\n",
              "      <td>0.0</td>\n",
              "      <td>0.0</td>\n",
              "      <td>1.0</td>\n",
              "      <td>0.0</td>\n",
              "    </tr>\n",
              "    <tr>\n",
              "      <th>1</th>\n",
              "      <td>1.0</td>\n",
              "      <td>0.0</td>\n",
              "      <td>0.0</td>\n",
              "      <td>0.0</td>\n",
              "      <td>0.464789</td>\n",
              "      <td>1.0</td>\n",
              "      <td>0.0</td>\n",
              "      <td>1.0</td>\n",
              "      <td>0.0</td>\n",
              "      <td>1.0</td>\n",
              "      <td>...</td>\n",
              "      <td>1.0</td>\n",
              "      <td>0.0</td>\n",
              "      <td>0.0</td>\n",
              "      <td>0.0</td>\n",
              "      <td>1.0</td>\n",
              "      <td>0.0</td>\n",
              "      <td>0.0</td>\n",
              "      <td>0.0</td>\n",
              "      <td>0.0</td>\n",
              "      <td>1.0</td>\n",
              "    </tr>\n",
              "    <tr>\n",
              "      <th>2</th>\n",
              "      <td>1.0</td>\n",
              "      <td>0.0</td>\n",
              "      <td>0.0</td>\n",
              "      <td>0.0</td>\n",
              "      <td>0.014085</td>\n",
              "      <td>1.0</td>\n",
              "      <td>0.0</td>\n",
              "      <td>1.0</td>\n",
              "      <td>1.0</td>\n",
              "      <td>0.0</td>\n",
              "      <td>...</td>\n",
              "      <td>1.0</td>\n",
              "      <td>0.0</td>\n",
              "      <td>0.0</td>\n",
              "      <td>1.0</td>\n",
              "      <td>0.0</td>\n",
              "      <td>0.0</td>\n",
              "      <td>0.0</td>\n",
              "      <td>0.0</td>\n",
              "      <td>0.0</td>\n",
              "      <td>1.0</td>\n",
              "    </tr>\n",
              "    <tr>\n",
              "      <th>3</th>\n",
              "      <td>1.0</td>\n",
              "      <td>0.0</td>\n",
              "      <td>0.0</td>\n",
              "      <td>0.0</td>\n",
              "      <td>0.619718</td>\n",
              "      <td>0.0</td>\n",
              "      <td>0.0</td>\n",
              "      <td>1.0</td>\n",
              "      <td>0.0</td>\n",
              "      <td>1.0</td>\n",
              "      <td>...</td>\n",
              "      <td>1.0</td>\n",
              "      <td>0.0</td>\n",
              "      <td>0.0</td>\n",
              "      <td>0.0</td>\n",
              "      <td>1.0</td>\n",
              "      <td>0.0</td>\n",
              "      <td>1.0</td>\n",
              "      <td>0.0</td>\n",
              "      <td>0.0</td>\n",
              "      <td>0.0</td>\n",
              "    </tr>\n",
              "    <tr>\n",
              "      <th>4</th>\n",
              "      <td>0.0</td>\n",
              "      <td>0.0</td>\n",
              "      <td>0.0</td>\n",
              "      <td>0.0</td>\n",
              "      <td>0.014085</td>\n",
              "      <td>1.0</td>\n",
              "      <td>0.0</td>\n",
              "      <td>0.0</td>\n",
              "      <td>0.0</td>\n",
              "      <td>0.0</td>\n",
              "      <td>...</td>\n",
              "      <td>0.0</td>\n",
              "      <td>1.0</td>\n",
              "      <td>0.0</td>\n",
              "      <td>1.0</td>\n",
              "      <td>0.0</td>\n",
              "      <td>0.0</td>\n",
              "      <td>0.0</td>\n",
              "      <td>0.0</td>\n",
              "      <td>1.0</td>\n",
              "      <td>0.0</td>\n",
              "    </tr>\n",
              "    <tr>\n",
              "      <th>...</th>\n",
              "      <td>...</td>\n",
              "      <td>...</td>\n",
              "      <td>...</td>\n",
              "      <td>...</td>\n",
              "      <td>...</td>\n",
              "      <td>...</td>\n",
              "      <td>...</td>\n",
              "      <td>...</td>\n",
              "      <td>...</td>\n",
              "      <td>...</td>\n",
              "      <td>...</td>\n",
              "      <td>...</td>\n",
              "      <td>...</td>\n",
              "      <td>...</td>\n",
              "      <td>...</td>\n",
              "      <td>...</td>\n",
              "      <td>...</td>\n",
              "      <td>...</td>\n",
              "      <td>...</td>\n",
              "      <td>...</td>\n",
              "      <td>...</td>\n",
              "    </tr>\n",
              "    <tr>\n",
              "      <th>7038</th>\n",
              "      <td>1.0</td>\n",
              "      <td>0.0</td>\n",
              "      <td>1.0</td>\n",
              "      <td>1.0</td>\n",
              "      <td>0.323944</td>\n",
              "      <td>1.0</td>\n",
              "      <td>1.0</td>\n",
              "      <td>1.0</td>\n",
              "      <td>0.0</td>\n",
              "      <td>1.0</td>\n",
              "      <td>...</td>\n",
              "      <td>1.0</td>\n",
              "      <td>0.0</td>\n",
              "      <td>0.0</td>\n",
              "      <td>0.0</td>\n",
              "      <td>1.0</td>\n",
              "      <td>0.0</td>\n",
              "      <td>0.0</td>\n",
              "      <td>0.0</td>\n",
              "      <td>0.0</td>\n",
              "      <td>1.0</td>\n",
              "    </tr>\n",
              "    <tr>\n",
              "      <th>7039</th>\n",
              "      <td>0.0</td>\n",
              "      <td>0.0</td>\n",
              "      <td>1.0</td>\n",
              "      <td>1.0</td>\n",
              "      <td>1.000000</td>\n",
              "      <td>1.0</td>\n",
              "      <td>1.0</td>\n",
              "      <td>0.0</td>\n",
              "      <td>1.0</td>\n",
              "      <td>1.0</td>\n",
              "      <td>...</td>\n",
              "      <td>0.0</td>\n",
              "      <td>1.0</td>\n",
              "      <td>0.0</td>\n",
              "      <td>0.0</td>\n",
              "      <td>1.0</td>\n",
              "      <td>0.0</td>\n",
              "      <td>0.0</td>\n",
              "      <td>1.0</td>\n",
              "      <td>0.0</td>\n",
              "      <td>0.0</td>\n",
              "    </tr>\n",
              "    <tr>\n",
              "      <th>7040</th>\n",
              "      <td>0.0</td>\n",
              "      <td>0.0</td>\n",
              "      <td>1.0</td>\n",
              "      <td>1.0</td>\n",
              "      <td>0.140845</td>\n",
              "      <td>0.0</td>\n",
              "      <td>0.0</td>\n",
              "      <td>1.0</td>\n",
              "      <td>0.0</td>\n",
              "      <td>0.0</td>\n",
              "      <td>...</td>\n",
              "      <td>1.0</td>\n",
              "      <td>0.0</td>\n",
              "      <td>0.0</td>\n",
              "      <td>1.0</td>\n",
              "      <td>0.0</td>\n",
              "      <td>0.0</td>\n",
              "      <td>0.0</td>\n",
              "      <td>0.0</td>\n",
              "      <td>1.0</td>\n",
              "      <td>0.0</td>\n",
              "    </tr>\n",
              "    <tr>\n",
              "      <th>7041</th>\n",
              "      <td>1.0</td>\n",
              "      <td>1.0</td>\n",
              "      <td>1.0</td>\n",
              "      <td>0.0</td>\n",
              "      <td>0.042254</td>\n",
              "      <td>1.0</td>\n",
              "      <td>1.0</td>\n",
              "      <td>0.0</td>\n",
              "      <td>0.0</td>\n",
              "      <td>0.0</td>\n",
              "      <td>...</td>\n",
              "      <td>0.0</td>\n",
              "      <td>1.0</td>\n",
              "      <td>0.0</td>\n",
              "      <td>1.0</td>\n",
              "      <td>0.0</td>\n",
              "      <td>0.0</td>\n",
              "      <td>0.0</td>\n",
              "      <td>0.0</td>\n",
              "      <td>0.0</td>\n",
              "      <td>1.0</td>\n",
              "    </tr>\n",
              "    <tr>\n",
              "      <th>7042</th>\n",
              "      <td>1.0</td>\n",
              "      <td>0.0</td>\n",
              "      <td>0.0</td>\n",
              "      <td>0.0</td>\n",
              "      <td>0.915493</td>\n",
              "      <td>1.0</td>\n",
              "      <td>0.0</td>\n",
              "      <td>1.0</td>\n",
              "      <td>0.0</td>\n",
              "      <td>1.0</td>\n",
              "      <td>...</td>\n",
              "      <td>0.0</td>\n",
              "      <td>1.0</td>\n",
              "      <td>0.0</td>\n",
              "      <td>0.0</td>\n",
              "      <td>0.0</td>\n",
              "      <td>1.0</td>\n",
              "      <td>1.0</td>\n",
              "      <td>0.0</td>\n",
              "      <td>0.0</td>\n",
              "      <td>0.0</td>\n",
              "    </tr>\n",
              "  </tbody>\n",
              "</table>\n",
              "<p>7032 rows × 26 columns</p>\n",
              "</div>"
            ],
            "text/plain": [
              "      gender  SeniorCitizen  Partner  Dependents    tenure  PhoneService  \\\n",
              "0        0.0            0.0      1.0         0.0  0.000000           0.0   \n",
              "1        1.0            0.0      0.0         0.0  0.464789           1.0   \n",
              "2        1.0            0.0      0.0         0.0  0.014085           1.0   \n",
              "3        1.0            0.0      0.0         0.0  0.619718           0.0   \n",
              "4        0.0            0.0      0.0         0.0  0.014085           1.0   \n",
              "...      ...            ...      ...         ...       ...           ...   \n",
              "7038     1.0            0.0      1.0         1.0  0.323944           1.0   \n",
              "7039     0.0            0.0      1.0         1.0  1.000000           1.0   \n",
              "7040     0.0            0.0      1.0         1.0  0.140845           0.0   \n",
              "7041     1.0            1.0      1.0         0.0  0.042254           1.0   \n",
              "7042     1.0            0.0      0.0         0.0  0.915493           1.0   \n",
              "\n",
              "      MultipleLines  OnlineSecurity  OnlineBackup  DeviceProtection  ...  DSL  \\\n",
              "0               0.0             0.0           1.0               0.0  ...  1.0   \n",
              "1               0.0             1.0           0.0               1.0  ...  1.0   \n",
              "2               0.0             1.0           1.0               0.0  ...  1.0   \n",
              "3               0.0             1.0           0.0               1.0  ...  1.0   \n",
              "4               0.0             0.0           0.0               0.0  ...  0.0   \n",
              "...             ...             ...           ...               ...  ...  ...   \n",
              "7038            1.0             1.0           0.0               1.0  ...  1.0   \n",
              "7039            1.0             0.0           1.0               1.0  ...  0.0   \n",
              "7040            0.0             1.0           0.0               0.0  ...  1.0   \n",
              "7041            1.0             0.0           0.0               0.0  ...  0.0   \n",
              "7042            0.0             1.0           0.0               1.0  ...  0.0   \n",
              "\n",
              "      Fiber optic   No  Month-to-month  One year  Two year  \\\n",
              "0             0.0  0.0             1.0       0.0       0.0   \n",
              "1             0.0  0.0             0.0       1.0       0.0   \n",
              "2             0.0  0.0             1.0       0.0       0.0   \n",
              "3             0.0  0.0             0.0       1.0       0.0   \n",
              "4             1.0  0.0             1.0       0.0       0.0   \n",
              "...           ...  ...             ...       ...       ...   \n",
              "7038          0.0  0.0             0.0       1.0       0.0   \n",
              "7039          1.0  0.0             0.0       1.0       0.0   \n",
              "7040          0.0  0.0             1.0       0.0       0.0   \n",
              "7041          1.0  0.0             1.0       0.0       0.0   \n",
              "7042          1.0  0.0             0.0       0.0       1.0   \n",
              "\n",
              "      Bank transfer (automatic)  Credit card (automatic)  Electronic check  \\\n",
              "0                           0.0                      0.0               1.0   \n",
              "1                           0.0                      0.0               0.0   \n",
              "2                           0.0                      0.0               0.0   \n",
              "3                           1.0                      0.0               0.0   \n",
              "4                           0.0                      0.0               1.0   \n",
              "...                         ...                      ...               ...   \n",
              "7038                        0.0                      0.0               0.0   \n",
              "7039                        0.0                      1.0               0.0   \n",
              "7040                        0.0                      0.0               1.0   \n",
              "7041                        0.0                      0.0               0.0   \n",
              "7042                        1.0                      0.0               0.0   \n",
              "\n",
              "      Mailed check  \n",
              "0              0.0  \n",
              "1              1.0  \n",
              "2              1.0  \n",
              "3              0.0  \n",
              "4              0.0  \n",
              "...            ...  \n",
              "7038           1.0  \n",
              "7039           0.0  \n",
              "7040           0.0  \n",
              "7041           1.0  \n",
              "7042           0.0  \n",
              "\n",
              "[7032 rows x 26 columns]"
            ]
          },
          "execution_count": 28,
          "metadata": {},
          "output_type": "execute_result"
        }
      ],
      "source": [
        "df1"
      ]
    },
    {
      "cell_type": "code",
      "execution_count": null,
      "metadata": {
        "id": "gfWJq8WISWKC"
      },
      "outputs": [],
      "source": [
        "# convert to numeric\n",
        "objList = data.select_dtypes(include = \"object\").columns\n",
        "le = preprocessing.LabelEncoder()\n",
        "\n",
        "data[objList] = data[objList].apply(le.fit_transform)\n"
      ]
    },
    {
      "cell_type": "code",
      "execution_count": null,
      "metadata": {
        "id": "rkuqDLACSWKC",
        "outputId": "c4a441c4-aa19-467a-cd39-be9910e9ed70"
      },
      "outputs": [
        {
          "data": {
            "text/html": [
              "<div>\n",
              "<style scoped>\n",
              "    .dataframe tbody tr th:only-of-type {\n",
              "        vertical-align: middle;\n",
              "    }\n",
              "\n",
              "    .dataframe tbody tr th {\n",
              "        vertical-align: top;\n",
              "    }\n",
              "\n",
              "    .dataframe thead th {\n",
              "        text-align: right;\n",
              "    }\n",
              "</style>\n",
              "<table border=\"1\" class=\"dataframe\">\n",
              "  <thead>\n",
              "    <tr style=\"text-align: right;\">\n",
              "      <th></th>\n",
              "      <th>gender</th>\n",
              "      <th>SeniorCitizen</th>\n",
              "      <th>Partner</th>\n",
              "      <th>Dependents</th>\n",
              "      <th>tenure</th>\n",
              "      <th>PhoneService</th>\n",
              "      <th>MultipleLines</th>\n",
              "      <th>InternetService</th>\n",
              "      <th>OnlineSecurity</th>\n",
              "      <th>OnlineBackup</th>\n",
              "      <th>DeviceProtection</th>\n",
              "      <th>TechSupport</th>\n",
              "      <th>StreamingTV</th>\n",
              "      <th>StreamingMovies</th>\n",
              "      <th>Contract</th>\n",
              "      <th>PaperlessBilling</th>\n",
              "      <th>PaymentMethod</th>\n",
              "      <th>MonthlyCharges</th>\n",
              "      <th>TotalCharges</th>\n",
              "      <th>Churn</th>\n",
              "    </tr>\n",
              "  </thead>\n",
              "  <tbody>\n",
              "    <tr>\n",
              "      <th>0</th>\n",
              "      <td>0</td>\n",
              "      <td>0</td>\n",
              "      <td>1</td>\n",
              "      <td>0</td>\n",
              "      <td>1</td>\n",
              "      <td>0</td>\n",
              "      <td>0</td>\n",
              "      <td>0</td>\n",
              "      <td>0</td>\n",
              "      <td>1</td>\n",
              "      <td>0</td>\n",
              "      <td>0</td>\n",
              "      <td>0</td>\n",
              "      <td>0</td>\n",
              "      <td>0</td>\n",
              "      <td>1</td>\n",
              "      <td>2</td>\n",
              "      <td>29.85</td>\n",
              "      <td>29.85</td>\n",
              "      <td>0</td>\n",
              "    </tr>\n",
              "    <tr>\n",
              "      <th>1</th>\n",
              "      <td>1</td>\n",
              "      <td>0</td>\n",
              "      <td>0</td>\n",
              "      <td>0</td>\n",
              "      <td>34</td>\n",
              "      <td>1</td>\n",
              "      <td>0</td>\n",
              "      <td>0</td>\n",
              "      <td>1</td>\n",
              "      <td>0</td>\n",
              "      <td>1</td>\n",
              "      <td>0</td>\n",
              "      <td>0</td>\n",
              "      <td>0</td>\n",
              "      <td>1</td>\n",
              "      <td>0</td>\n",
              "      <td>3</td>\n",
              "      <td>56.95</td>\n",
              "      <td>1889.50</td>\n",
              "      <td>0</td>\n",
              "    </tr>\n",
              "    <tr>\n",
              "      <th>2</th>\n",
              "      <td>1</td>\n",
              "      <td>0</td>\n",
              "      <td>0</td>\n",
              "      <td>0</td>\n",
              "      <td>2</td>\n",
              "      <td>1</td>\n",
              "      <td>0</td>\n",
              "      <td>0</td>\n",
              "      <td>1</td>\n",
              "      <td>1</td>\n",
              "      <td>0</td>\n",
              "      <td>0</td>\n",
              "      <td>0</td>\n",
              "      <td>0</td>\n",
              "      <td>0</td>\n",
              "      <td>1</td>\n",
              "      <td>3</td>\n",
              "      <td>53.85</td>\n",
              "      <td>108.15</td>\n",
              "      <td>1</td>\n",
              "    </tr>\n",
              "    <tr>\n",
              "      <th>3</th>\n",
              "      <td>1</td>\n",
              "      <td>0</td>\n",
              "      <td>0</td>\n",
              "      <td>0</td>\n",
              "      <td>45</td>\n",
              "      <td>0</td>\n",
              "      <td>0</td>\n",
              "      <td>0</td>\n",
              "      <td>1</td>\n",
              "      <td>0</td>\n",
              "      <td>1</td>\n",
              "      <td>1</td>\n",
              "      <td>0</td>\n",
              "      <td>0</td>\n",
              "      <td>1</td>\n",
              "      <td>0</td>\n",
              "      <td>0</td>\n",
              "      <td>42.30</td>\n",
              "      <td>1840.75</td>\n",
              "      <td>0</td>\n",
              "    </tr>\n",
              "    <tr>\n",
              "      <th>4</th>\n",
              "      <td>0</td>\n",
              "      <td>0</td>\n",
              "      <td>0</td>\n",
              "      <td>0</td>\n",
              "      <td>2</td>\n",
              "      <td>1</td>\n",
              "      <td>0</td>\n",
              "      <td>1</td>\n",
              "      <td>0</td>\n",
              "      <td>0</td>\n",
              "      <td>0</td>\n",
              "      <td>0</td>\n",
              "      <td>0</td>\n",
              "      <td>0</td>\n",
              "      <td>0</td>\n",
              "      <td>1</td>\n",
              "      <td>2</td>\n",
              "      <td>70.70</td>\n",
              "      <td>151.65</td>\n",
              "      <td>1</td>\n",
              "    </tr>\n",
              "    <tr>\n",
              "      <th>...</th>\n",
              "      <td>...</td>\n",
              "      <td>...</td>\n",
              "      <td>...</td>\n",
              "      <td>...</td>\n",
              "      <td>...</td>\n",
              "      <td>...</td>\n",
              "      <td>...</td>\n",
              "      <td>...</td>\n",
              "      <td>...</td>\n",
              "      <td>...</td>\n",
              "      <td>...</td>\n",
              "      <td>...</td>\n",
              "      <td>...</td>\n",
              "      <td>...</td>\n",
              "      <td>...</td>\n",
              "      <td>...</td>\n",
              "      <td>...</td>\n",
              "      <td>...</td>\n",
              "      <td>...</td>\n",
              "      <td>...</td>\n",
              "    </tr>\n",
              "    <tr>\n",
              "      <th>7038</th>\n",
              "      <td>1</td>\n",
              "      <td>0</td>\n",
              "      <td>1</td>\n",
              "      <td>1</td>\n",
              "      <td>24</td>\n",
              "      <td>1</td>\n",
              "      <td>1</td>\n",
              "      <td>0</td>\n",
              "      <td>1</td>\n",
              "      <td>0</td>\n",
              "      <td>1</td>\n",
              "      <td>1</td>\n",
              "      <td>1</td>\n",
              "      <td>1</td>\n",
              "      <td>1</td>\n",
              "      <td>1</td>\n",
              "      <td>3</td>\n",
              "      <td>84.80</td>\n",
              "      <td>1990.50</td>\n",
              "      <td>0</td>\n",
              "    </tr>\n",
              "    <tr>\n",
              "      <th>7039</th>\n",
              "      <td>0</td>\n",
              "      <td>0</td>\n",
              "      <td>1</td>\n",
              "      <td>1</td>\n",
              "      <td>72</td>\n",
              "      <td>1</td>\n",
              "      <td>1</td>\n",
              "      <td>1</td>\n",
              "      <td>0</td>\n",
              "      <td>1</td>\n",
              "      <td>1</td>\n",
              "      <td>0</td>\n",
              "      <td>1</td>\n",
              "      <td>1</td>\n",
              "      <td>1</td>\n",
              "      <td>1</td>\n",
              "      <td>1</td>\n",
              "      <td>103.20</td>\n",
              "      <td>7362.90</td>\n",
              "      <td>0</td>\n",
              "    </tr>\n",
              "    <tr>\n",
              "      <th>7040</th>\n",
              "      <td>0</td>\n",
              "      <td>0</td>\n",
              "      <td>1</td>\n",
              "      <td>1</td>\n",
              "      <td>11</td>\n",
              "      <td>0</td>\n",
              "      <td>0</td>\n",
              "      <td>0</td>\n",
              "      <td>1</td>\n",
              "      <td>0</td>\n",
              "      <td>0</td>\n",
              "      <td>0</td>\n",
              "      <td>0</td>\n",
              "      <td>0</td>\n",
              "      <td>0</td>\n",
              "      <td>1</td>\n",
              "      <td>2</td>\n",
              "      <td>29.60</td>\n",
              "      <td>346.45</td>\n",
              "      <td>0</td>\n",
              "    </tr>\n",
              "    <tr>\n",
              "      <th>7041</th>\n",
              "      <td>1</td>\n",
              "      <td>1</td>\n",
              "      <td>1</td>\n",
              "      <td>0</td>\n",
              "      <td>4</td>\n",
              "      <td>1</td>\n",
              "      <td>1</td>\n",
              "      <td>1</td>\n",
              "      <td>0</td>\n",
              "      <td>0</td>\n",
              "      <td>0</td>\n",
              "      <td>0</td>\n",
              "      <td>0</td>\n",
              "      <td>0</td>\n",
              "      <td>0</td>\n",
              "      <td>1</td>\n",
              "      <td>3</td>\n",
              "      <td>74.40</td>\n",
              "      <td>306.60</td>\n",
              "      <td>1</td>\n",
              "    </tr>\n",
              "    <tr>\n",
              "      <th>7042</th>\n",
              "      <td>1</td>\n",
              "      <td>0</td>\n",
              "      <td>0</td>\n",
              "      <td>0</td>\n",
              "      <td>66</td>\n",
              "      <td>1</td>\n",
              "      <td>0</td>\n",
              "      <td>1</td>\n",
              "      <td>1</td>\n",
              "      <td>0</td>\n",
              "      <td>1</td>\n",
              "      <td>1</td>\n",
              "      <td>1</td>\n",
              "      <td>1</td>\n",
              "      <td>2</td>\n",
              "      <td>1</td>\n",
              "      <td>0</td>\n",
              "      <td>105.65</td>\n",
              "      <td>6844.50</td>\n",
              "      <td>0</td>\n",
              "    </tr>\n",
              "  </tbody>\n",
              "</table>\n",
              "<p>7032 rows × 20 columns</p>\n",
              "</div>"
            ],
            "text/plain": [
              "      gender  SeniorCitizen  Partner  Dependents  tenure  PhoneService  \\\n",
              "0          0              0        1           0       1             0   \n",
              "1          1              0        0           0      34             1   \n",
              "2          1              0        0           0       2             1   \n",
              "3          1              0        0           0      45             0   \n",
              "4          0              0        0           0       2             1   \n",
              "...      ...            ...      ...         ...     ...           ...   \n",
              "7038       1              0        1           1      24             1   \n",
              "7039       0              0        1           1      72             1   \n",
              "7040       0              0        1           1      11             0   \n",
              "7041       1              1        1           0       4             1   \n",
              "7042       1              0        0           0      66             1   \n",
              "\n",
              "      MultipleLines  InternetService  OnlineSecurity  OnlineBackup  \\\n",
              "0                 0                0               0             1   \n",
              "1                 0                0               1             0   \n",
              "2                 0                0               1             1   \n",
              "3                 0                0               1             0   \n",
              "4                 0                1               0             0   \n",
              "...             ...              ...             ...           ...   \n",
              "7038              1                0               1             0   \n",
              "7039              1                1               0             1   \n",
              "7040              0                0               1             0   \n",
              "7041              1                1               0             0   \n",
              "7042              0                1               1             0   \n",
              "\n",
              "      DeviceProtection  TechSupport  StreamingTV  StreamingMovies  Contract  \\\n",
              "0                    0            0            0                0         0   \n",
              "1                    1            0            0                0         1   \n",
              "2                    0            0            0                0         0   \n",
              "3                    1            1            0                0         1   \n",
              "4                    0            0            0                0         0   \n",
              "...                ...          ...          ...              ...       ...   \n",
              "7038                 1            1            1                1         1   \n",
              "7039                 1            0            1                1         1   \n",
              "7040                 0            0            0                0         0   \n",
              "7041                 0            0            0                0         0   \n",
              "7042                 1            1            1                1         2   \n",
              "\n",
              "      PaperlessBilling  PaymentMethod  MonthlyCharges  TotalCharges  Churn  \n",
              "0                    1              2           29.85         29.85      0  \n",
              "1                    0              3           56.95       1889.50      0  \n",
              "2                    1              3           53.85        108.15      1  \n",
              "3                    0              0           42.30       1840.75      0  \n",
              "4                    1              2           70.70        151.65      1  \n",
              "...                ...            ...             ...           ...    ...  \n",
              "7038                 1              3           84.80       1990.50      0  \n",
              "7039                 1              1          103.20       7362.90      0  \n",
              "7040                 1              2           29.60        346.45      0  \n",
              "7041                 1              3           74.40        306.60      1  \n",
              "7042                 1              0          105.65       6844.50      0  \n",
              "\n",
              "[7032 rows x 20 columns]"
            ]
          },
          "execution_count": 30,
          "metadata": {},
          "output_type": "execute_result"
        }
      ],
      "source": [
        "data"
      ]
    },
    {
      "cell_type": "markdown",
      "metadata": {
        "id": "G-gkleM8SWKC"
      },
      "source": [
        "PCA"
      ]
    },
    {
      "cell_type": "code",
      "execution_count": null,
      "metadata": {
        "id": "VnvTCXE7SWKC"
      },
      "outputs": [],
      "source": [
        "X=df1\n",
        "y = data.iloc[:, -1].values\n"
      ]
    },
    {
      "cell_type": "code",
      "execution_count": null,
      "metadata": {
        "id": "iCv773yjSWKC",
        "outputId": "876941be-db41-4864-d042-778fd669c176"
      },
      "outputs": [
        {
          "data": {
            "text/html": [
              "<div>\n",
              "<style scoped>\n",
              "    .dataframe tbody tr th:only-of-type {\n",
              "        vertical-align: middle;\n",
              "    }\n",
              "\n",
              "    .dataframe tbody tr th {\n",
              "        vertical-align: top;\n",
              "    }\n",
              "\n",
              "    .dataframe thead th {\n",
              "        text-align: right;\n",
              "    }\n",
              "</style>\n",
              "<table border=\"1\" class=\"dataframe\">\n",
              "  <thead>\n",
              "    <tr style=\"text-align: right;\">\n",
              "      <th></th>\n",
              "      <th>gender</th>\n",
              "      <th>SeniorCitizen</th>\n",
              "      <th>Partner</th>\n",
              "      <th>Dependents</th>\n",
              "      <th>tenure</th>\n",
              "      <th>PhoneService</th>\n",
              "      <th>MultipleLines</th>\n",
              "      <th>OnlineSecurity</th>\n",
              "      <th>OnlineBackup</th>\n",
              "      <th>DeviceProtection</th>\n",
              "      <th>...</th>\n",
              "      <th>DSL</th>\n",
              "      <th>Fiber optic</th>\n",
              "      <th>No</th>\n",
              "      <th>Month-to-month</th>\n",
              "      <th>One year</th>\n",
              "      <th>Two year</th>\n",
              "      <th>Bank transfer (automatic)</th>\n",
              "      <th>Credit card (automatic)</th>\n",
              "      <th>Electronic check</th>\n",
              "      <th>Mailed check</th>\n",
              "    </tr>\n",
              "  </thead>\n",
              "  <tbody>\n",
              "    <tr>\n",
              "      <th>0</th>\n",
              "      <td>0.0</td>\n",
              "      <td>0.0</td>\n",
              "      <td>1.0</td>\n",
              "      <td>0.0</td>\n",
              "      <td>0.000000</td>\n",
              "      <td>0.0</td>\n",
              "      <td>0.0</td>\n",
              "      <td>0.0</td>\n",
              "      <td>1.0</td>\n",
              "      <td>0.0</td>\n",
              "      <td>...</td>\n",
              "      <td>1.0</td>\n",
              "      <td>0.0</td>\n",
              "      <td>0.0</td>\n",
              "      <td>1.0</td>\n",
              "      <td>0.0</td>\n",
              "      <td>0.0</td>\n",
              "      <td>0.0</td>\n",
              "      <td>0.0</td>\n",
              "      <td>1.0</td>\n",
              "      <td>0.0</td>\n",
              "    </tr>\n",
              "    <tr>\n",
              "      <th>1</th>\n",
              "      <td>1.0</td>\n",
              "      <td>0.0</td>\n",
              "      <td>0.0</td>\n",
              "      <td>0.0</td>\n",
              "      <td>0.464789</td>\n",
              "      <td>1.0</td>\n",
              "      <td>0.0</td>\n",
              "      <td>1.0</td>\n",
              "      <td>0.0</td>\n",
              "      <td>1.0</td>\n",
              "      <td>...</td>\n",
              "      <td>1.0</td>\n",
              "      <td>0.0</td>\n",
              "      <td>0.0</td>\n",
              "      <td>0.0</td>\n",
              "      <td>1.0</td>\n",
              "      <td>0.0</td>\n",
              "      <td>0.0</td>\n",
              "      <td>0.0</td>\n",
              "      <td>0.0</td>\n",
              "      <td>1.0</td>\n",
              "    </tr>\n",
              "    <tr>\n",
              "      <th>2</th>\n",
              "      <td>1.0</td>\n",
              "      <td>0.0</td>\n",
              "      <td>0.0</td>\n",
              "      <td>0.0</td>\n",
              "      <td>0.014085</td>\n",
              "      <td>1.0</td>\n",
              "      <td>0.0</td>\n",
              "      <td>1.0</td>\n",
              "      <td>1.0</td>\n",
              "      <td>0.0</td>\n",
              "      <td>...</td>\n",
              "      <td>1.0</td>\n",
              "      <td>0.0</td>\n",
              "      <td>0.0</td>\n",
              "      <td>1.0</td>\n",
              "      <td>0.0</td>\n",
              "      <td>0.0</td>\n",
              "      <td>0.0</td>\n",
              "      <td>0.0</td>\n",
              "      <td>0.0</td>\n",
              "      <td>1.0</td>\n",
              "    </tr>\n",
              "    <tr>\n",
              "      <th>3</th>\n",
              "      <td>1.0</td>\n",
              "      <td>0.0</td>\n",
              "      <td>0.0</td>\n",
              "      <td>0.0</td>\n",
              "      <td>0.619718</td>\n",
              "      <td>0.0</td>\n",
              "      <td>0.0</td>\n",
              "      <td>1.0</td>\n",
              "      <td>0.0</td>\n",
              "      <td>1.0</td>\n",
              "      <td>...</td>\n",
              "      <td>1.0</td>\n",
              "      <td>0.0</td>\n",
              "      <td>0.0</td>\n",
              "      <td>0.0</td>\n",
              "      <td>1.0</td>\n",
              "      <td>0.0</td>\n",
              "      <td>1.0</td>\n",
              "      <td>0.0</td>\n",
              "      <td>0.0</td>\n",
              "      <td>0.0</td>\n",
              "    </tr>\n",
              "    <tr>\n",
              "      <th>4</th>\n",
              "      <td>0.0</td>\n",
              "      <td>0.0</td>\n",
              "      <td>0.0</td>\n",
              "      <td>0.0</td>\n",
              "      <td>0.014085</td>\n",
              "      <td>1.0</td>\n",
              "      <td>0.0</td>\n",
              "      <td>0.0</td>\n",
              "      <td>0.0</td>\n",
              "      <td>0.0</td>\n",
              "      <td>...</td>\n",
              "      <td>0.0</td>\n",
              "      <td>1.0</td>\n",
              "      <td>0.0</td>\n",
              "      <td>1.0</td>\n",
              "      <td>0.0</td>\n",
              "      <td>0.0</td>\n",
              "      <td>0.0</td>\n",
              "      <td>0.0</td>\n",
              "      <td>1.0</td>\n",
              "      <td>0.0</td>\n",
              "    </tr>\n",
              "    <tr>\n",
              "      <th>...</th>\n",
              "      <td>...</td>\n",
              "      <td>...</td>\n",
              "      <td>...</td>\n",
              "      <td>...</td>\n",
              "      <td>...</td>\n",
              "      <td>...</td>\n",
              "      <td>...</td>\n",
              "      <td>...</td>\n",
              "      <td>...</td>\n",
              "      <td>...</td>\n",
              "      <td>...</td>\n",
              "      <td>...</td>\n",
              "      <td>...</td>\n",
              "      <td>...</td>\n",
              "      <td>...</td>\n",
              "      <td>...</td>\n",
              "      <td>...</td>\n",
              "      <td>...</td>\n",
              "      <td>...</td>\n",
              "      <td>...</td>\n",
              "      <td>...</td>\n",
              "    </tr>\n",
              "    <tr>\n",
              "      <th>7038</th>\n",
              "      <td>1.0</td>\n",
              "      <td>0.0</td>\n",
              "      <td>1.0</td>\n",
              "      <td>1.0</td>\n",
              "      <td>0.323944</td>\n",
              "      <td>1.0</td>\n",
              "      <td>1.0</td>\n",
              "      <td>1.0</td>\n",
              "      <td>0.0</td>\n",
              "      <td>1.0</td>\n",
              "      <td>...</td>\n",
              "      <td>1.0</td>\n",
              "      <td>0.0</td>\n",
              "      <td>0.0</td>\n",
              "      <td>0.0</td>\n",
              "      <td>1.0</td>\n",
              "      <td>0.0</td>\n",
              "      <td>0.0</td>\n",
              "      <td>0.0</td>\n",
              "      <td>0.0</td>\n",
              "      <td>1.0</td>\n",
              "    </tr>\n",
              "    <tr>\n",
              "      <th>7039</th>\n",
              "      <td>0.0</td>\n",
              "      <td>0.0</td>\n",
              "      <td>1.0</td>\n",
              "      <td>1.0</td>\n",
              "      <td>1.000000</td>\n",
              "      <td>1.0</td>\n",
              "      <td>1.0</td>\n",
              "      <td>0.0</td>\n",
              "      <td>1.0</td>\n",
              "      <td>1.0</td>\n",
              "      <td>...</td>\n",
              "      <td>0.0</td>\n",
              "      <td>1.0</td>\n",
              "      <td>0.0</td>\n",
              "      <td>0.0</td>\n",
              "      <td>1.0</td>\n",
              "      <td>0.0</td>\n",
              "      <td>0.0</td>\n",
              "      <td>1.0</td>\n",
              "      <td>0.0</td>\n",
              "      <td>0.0</td>\n",
              "    </tr>\n",
              "    <tr>\n",
              "      <th>7040</th>\n",
              "      <td>0.0</td>\n",
              "      <td>0.0</td>\n",
              "      <td>1.0</td>\n",
              "      <td>1.0</td>\n",
              "      <td>0.140845</td>\n",
              "      <td>0.0</td>\n",
              "      <td>0.0</td>\n",
              "      <td>1.0</td>\n",
              "      <td>0.0</td>\n",
              "      <td>0.0</td>\n",
              "      <td>...</td>\n",
              "      <td>1.0</td>\n",
              "      <td>0.0</td>\n",
              "      <td>0.0</td>\n",
              "      <td>1.0</td>\n",
              "      <td>0.0</td>\n",
              "      <td>0.0</td>\n",
              "      <td>0.0</td>\n",
              "      <td>0.0</td>\n",
              "      <td>1.0</td>\n",
              "      <td>0.0</td>\n",
              "    </tr>\n",
              "    <tr>\n",
              "      <th>7041</th>\n",
              "      <td>1.0</td>\n",
              "      <td>1.0</td>\n",
              "      <td>1.0</td>\n",
              "      <td>0.0</td>\n",
              "      <td>0.042254</td>\n",
              "      <td>1.0</td>\n",
              "      <td>1.0</td>\n",
              "      <td>0.0</td>\n",
              "      <td>0.0</td>\n",
              "      <td>0.0</td>\n",
              "      <td>...</td>\n",
              "      <td>0.0</td>\n",
              "      <td>1.0</td>\n",
              "      <td>0.0</td>\n",
              "      <td>1.0</td>\n",
              "      <td>0.0</td>\n",
              "      <td>0.0</td>\n",
              "      <td>0.0</td>\n",
              "      <td>0.0</td>\n",
              "      <td>0.0</td>\n",
              "      <td>1.0</td>\n",
              "    </tr>\n",
              "    <tr>\n",
              "      <th>7042</th>\n",
              "      <td>1.0</td>\n",
              "      <td>0.0</td>\n",
              "      <td>0.0</td>\n",
              "      <td>0.0</td>\n",
              "      <td>0.915493</td>\n",
              "      <td>1.0</td>\n",
              "      <td>0.0</td>\n",
              "      <td>1.0</td>\n",
              "      <td>0.0</td>\n",
              "      <td>1.0</td>\n",
              "      <td>...</td>\n",
              "      <td>0.0</td>\n",
              "      <td>1.0</td>\n",
              "      <td>0.0</td>\n",
              "      <td>0.0</td>\n",
              "      <td>0.0</td>\n",
              "      <td>1.0</td>\n",
              "      <td>1.0</td>\n",
              "      <td>0.0</td>\n",
              "      <td>0.0</td>\n",
              "      <td>0.0</td>\n",
              "    </tr>\n",
              "  </tbody>\n",
              "</table>\n",
              "<p>7032 rows × 26 columns</p>\n",
              "</div>"
            ],
            "text/plain": [
              "      gender  SeniorCitizen  Partner  Dependents    tenure  PhoneService  \\\n",
              "0        0.0            0.0      1.0         0.0  0.000000           0.0   \n",
              "1        1.0            0.0      0.0         0.0  0.464789           1.0   \n",
              "2        1.0            0.0      0.0         0.0  0.014085           1.0   \n",
              "3        1.0            0.0      0.0         0.0  0.619718           0.0   \n",
              "4        0.0            0.0      0.0         0.0  0.014085           1.0   \n",
              "...      ...            ...      ...         ...       ...           ...   \n",
              "7038     1.0            0.0      1.0         1.0  0.323944           1.0   \n",
              "7039     0.0            0.0      1.0         1.0  1.000000           1.0   \n",
              "7040     0.0            0.0      1.0         1.0  0.140845           0.0   \n",
              "7041     1.0            1.0      1.0         0.0  0.042254           1.0   \n",
              "7042     1.0            0.0      0.0         0.0  0.915493           1.0   \n",
              "\n",
              "      MultipleLines  OnlineSecurity  OnlineBackup  DeviceProtection  ...  DSL  \\\n",
              "0               0.0             0.0           1.0               0.0  ...  1.0   \n",
              "1               0.0             1.0           0.0               1.0  ...  1.0   \n",
              "2               0.0             1.0           1.0               0.0  ...  1.0   \n",
              "3               0.0             1.0           0.0               1.0  ...  1.0   \n",
              "4               0.0             0.0           0.0               0.0  ...  0.0   \n",
              "...             ...             ...           ...               ...  ...  ...   \n",
              "7038            1.0             1.0           0.0               1.0  ...  1.0   \n",
              "7039            1.0             0.0           1.0               1.0  ...  0.0   \n",
              "7040            0.0             1.0           0.0               0.0  ...  1.0   \n",
              "7041            1.0             0.0           0.0               0.0  ...  0.0   \n",
              "7042            0.0             1.0           0.0               1.0  ...  0.0   \n",
              "\n",
              "      Fiber optic   No  Month-to-month  One year  Two year  \\\n",
              "0             0.0  0.0             1.0       0.0       0.0   \n",
              "1             0.0  0.0             0.0       1.0       0.0   \n",
              "2             0.0  0.0             1.0       0.0       0.0   \n",
              "3             0.0  0.0             0.0       1.0       0.0   \n",
              "4             1.0  0.0             1.0       0.0       0.0   \n",
              "...           ...  ...             ...       ...       ...   \n",
              "7038          0.0  0.0             0.0       1.0       0.0   \n",
              "7039          1.0  0.0             0.0       1.0       0.0   \n",
              "7040          0.0  0.0             1.0       0.0       0.0   \n",
              "7041          1.0  0.0             1.0       0.0       0.0   \n",
              "7042          1.0  0.0             0.0       0.0       1.0   \n",
              "\n",
              "      Bank transfer (automatic)  Credit card (automatic)  Electronic check  \\\n",
              "0                           0.0                      0.0               1.0   \n",
              "1                           0.0                      0.0               0.0   \n",
              "2                           0.0                      0.0               0.0   \n",
              "3                           1.0                      0.0               0.0   \n",
              "4                           0.0                      0.0               1.0   \n",
              "...                         ...                      ...               ...   \n",
              "7038                        0.0                      0.0               0.0   \n",
              "7039                        0.0                      1.0               0.0   \n",
              "7040                        0.0                      0.0               1.0   \n",
              "7041                        0.0                      0.0               0.0   \n",
              "7042                        1.0                      0.0               0.0   \n",
              "\n",
              "      Mailed check  \n",
              "0              0.0  \n",
              "1              1.0  \n",
              "2              1.0  \n",
              "3              0.0  \n",
              "4              0.0  \n",
              "...            ...  \n",
              "7038           1.0  \n",
              "7039           0.0  \n",
              "7040           0.0  \n",
              "7041           1.0  \n",
              "7042           0.0  \n",
              "\n",
              "[7032 rows x 26 columns]"
            ]
          },
          "execution_count": 32,
          "metadata": {},
          "output_type": "execute_result"
        }
      ],
      "source": [
        "X"
      ]
    },
    {
      "cell_type": "code",
      "execution_count": null,
      "metadata": {
        "id": "shkh06deSWKC",
        "outputId": "fa81f65c-2d33-458a-cdc3-eab09e1a96b6"
      },
      "outputs": [
        {
          "data": {
            "text/plain": [
              "array([0, 0, 1, ..., 0, 1, 0])"
            ]
          },
          "execution_count": 33,
          "metadata": {},
          "output_type": "execute_result"
        }
      ],
      "source": [
        "y"
      ]
    },
    {
      "cell_type": "code",
      "execution_count": null,
      "metadata": {
        "id": "9zvZVgRkSWKD",
        "outputId": "e607cd4a-cc5f-44cd-fc64-f4edc3d362f0"
      },
      "outputs": [
        {
          "name": "stdout",
          "output_type": "stream",
          "text": [
            "      gender  SeniorCitizen  Partner  Dependents    tenure  PhoneService  \\\n",
            "0        0.0            0.0      1.0         0.0  0.000000           0.0   \n",
            "1        1.0            0.0      0.0         0.0  0.464789           1.0   \n",
            "2        1.0            0.0      0.0         0.0  0.014085           1.0   \n",
            "3        1.0            0.0      0.0         0.0  0.619718           0.0   \n",
            "4        0.0            0.0      0.0         0.0  0.014085           1.0   \n",
            "...      ...            ...      ...         ...       ...           ...   \n",
            "7038     1.0            0.0      1.0         1.0  0.323944           1.0   \n",
            "7039     0.0            0.0      1.0         1.0  1.000000           1.0   \n",
            "7040     0.0            0.0      1.0         1.0  0.140845           0.0   \n",
            "7041     1.0            1.0      1.0         0.0  0.042254           1.0   \n",
            "7042     1.0            0.0      0.0         0.0  0.915493           1.0   \n",
            "\n",
            "      MultipleLines  OnlineSecurity  OnlineBackup  DeviceProtection  ...  DSL  \\\n",
            "0               0.0             0.0           1.0               0.0  ...  1.0   \n",
            "1               0.0             1.0           0.0               1.0  ...  1.0   \n",
            "2               0.0             1.0           1.0               0.0  ...  1.0   \n",
            "3               0.0             1.0           0.0               1.0  ...  1.0   \n",
            "4               0.0             0.0           0.0               0.0  ...  0.0   \n",
            "...             ...             ...           ...               ...  ...  ...   \n",
            "7038            1.0             1.0           0.0               1.0  ...  1.0   \n",
            "7039            1.0             0.0           1.0               1.0  ...  0.0   \n",
            "7040            0.0             1.0           0.0               0.0  ...  1.0   \n",
            "7041            1.0             0.0           0.0               0.0  ...  0.0   \n",
            "7042            0.0             1.0           0.0               1.0  ...  0.0   \n",
            "\n",
            "      Fiber optic   No  Month-to-month  One year  Two year  \\\n",
            "0             0.0  0.0             1.0       0.0       0.0   \n",
            "1             0.0  0.0             0.0       1.0       0.0   \n",
            "2             0.0  0.0             1.0       0.0       0.0   \n",
            "3             0.0  0.0             0.0       1.0       0.0   \n",
            "4             1.0  0.0             1.0       0.0       0.0   \n",
            "...           ...  ...             ...       ...       ...   \n",
            "7038          0.0  0.0             0.0       1.0       0.0   \n",
            "7039          1.0  0.0             0.0       1.0       0.0   \n",
            "7040          0.0  0.0             1.0       0.0       0.0   \n",
            "7041          1.0  0.0             1.0       0.0       0.0   \n",
            "7042          1.0  0.0             0.0       0.0       1.0   \n",
            "\n",
            "      Bank transfer (automatic)  Credit card (automatic)  Electronic check  \\\n",
            "0                           0.0                      0.0               1.0   \n",
            "1                           0.0                      0.0               0.0   \n",
            "2                           0.0                      0.0               0.0   \n",
            "3                           1.0                      0.0               0.0   \n",
            "4                           0.0                      0.0               1.0   \n",
            "...                         ...                      ...               ...   \n",
            "7038                        0.0                      0.0               0.0   \n",
            "7039                        0.0                      1.0               0.0   \n",
            "7040                        0.0                      0.0               1.0   \n",
            "7041                        0.0                      0.0               0.0   \n",
            "7042                        1.0                      0.0               0.0   \n",
            "\n",
            "      Mailed check  \n",
            "0              0.0  \n",
            "1              1.0  \n",
            "2              1.0  \n",
            "3              0.0  \n",
            "4              0.0  \n",
            "...            ...  \n",
            "7038           1.0  \n",
            "7039           0.0  \n",
            "7040           0.0  \n",
            "7041           1.0  \n",
            "7042           0.0  \n",
            "\n",
            "[7032 rows x 26 columns]\n"
          ]
        }
      ],
      "source": [
        "print(X)"
      ]
    },
    {
      "cell_type": "markdown",
      "metadata": {
        "id": "wGvu6AaxSWKD"
      },
      "source": [
        "Feature selection with PCA"
      ]
    },
    {
      "cell_type": "code",
      "execution_count": null,
      "metadata": {
        "id": "Qm10QtA-SWKD",
        "outputId": "a844fa6c-e1d4-49af-db46-02e6b85375ff"
      },
      "outputs": [
        {
          "name": "stdout",
          "output_type": "stream",
          "text": [
            "\n",
            "Running PCA ...\n",
            "Explained variance: 0.9627\n",
            "Individual variance contributions:\n",
            "0.19433433524974847\n",
            "0.14738590889872397\n",
            "0.08616215470899811\n",
            "0.054516673375769195\n",
            "0.0501090848495898\n",
            "0.04669493634919673\n",
            "0.043563882496964274\n",
            "0.04177706540857015\n",
            "0.039856454576523336\n",
            "0.03887045704063582\n",
            "0.0352716446599118\n",
            "0.032130630980526036\n",
            "0.030352803506706293\n",
            "0.02848553044223032\n",
            "0.026715056874016076\n",
            "0.024982167193925747\n",
            "0.021982523359442452\n",
            "0.01949589544340155\n"
          ]
        }
      ],
      "source": [
        "n_comp = 18\n",
        "# PCA\n",
        "print('\\nRunning PCA ...')\n",
        "pca = PCA(n_components=n_comp, svd_solver='full', random_state=1001)\n",
        "X_pca = pca.fit_transform(X)\n",
        "print('Explained variance: %.4f' % pca.explained_variance_ratio_.sum())\n",
        "\n",
        "print('Individual variance contributions:')\n",
        "for j in range(n_comp):\n",
        "    print(pca.explained_variance_ratio_[j])"
      ]
    },
    {
      "cell_type": "markdown",
      "metadata": {
        "id": "zqjEzr7OSWKD"
      },
      "source": [
        "plot the first two principal components"
      ]
    },
    {
      "cell_type": "code",
      "execution_count": null,
      "metadata": {
        "id": "-qBVeYEySWKH",
        "outputId": "fa24c5e9-1f10-44c9-be1c-60373af08ea2"
      },
      "outputs": [
        {
          "data": {
            "image/png": "[encoded data removed]",
            "text/plain": [
              "<Figure size 720x720 with 1 Axes>"
            ]
          },
          "metadata": {
            "needs_background": "light"
          },
          "output_type": "display_data"
        }
      ],
      "source": [
        "colors = ['blue', 'red']\n",
        "plt.figure(1, figsize=(10, 10))\n",
        "\n",
        "for color, i, target_name in zip(colors, [0, 1], y):\n",
        "    plt.scatter(X_pca[y == i, 0], X_pca[y == i, 1], color=color, s=1,\n",
        "                alpha=.8, label=y, marker='.')\n",
        "plt.legend(loc='best', shadow=False, scatterpoints=3)\n",
        "plt.title(\n",
        "        \"Scatter plot of the training data projected on the 1st \"\n",
        "        \"and 2nd principal components\")\n",
        "plt.xlabel(\"Principal axis 1 - Explains %.1f %% of the variance\" % (\n",
        "        pca.explained_variance_ratio_[0] * 100.0))\n",
        "plt.ylabel(\"Principal axis 2 - Explains %.1f %% of the variance\" % (\n",
        "        pca.explained_variance_ratio_[1] * 100.0))\n",
        "\n",
        "plt.savefig('pca-porto-01.png', dpi=150)\n",
        "plt.show()"
      ]
    },
    {
      "cell_type": "code",
      "execution_count": null,
      "metadata": {
        "id": "tbD0QDR-SWKH",
        "outputId": "756fbc27-60c4-4d8a-ae4e-7d87d430e40d"
      },
      "outputs": [
        {
          "name": "stdout",
          "output_type": "stream",
          "text": [
            "[0.19433434 0.14738591 0.08616215 0.05451667 0.05010908 0.04669494\n",
            " 0.04356388 0.04177707 0.03985645 0.03887046 0.03527164 0.03213063\n",
            " 0.0303528  0.02848553 0.02671506 0.02498217 0.02198252 0.0194959 ]\n"
          ]
        }
      ],
      "source": [
        "print(pca.explained_variance_ratio_)"
      ]
    },
    {
      "cell_type": "code",
      "execution_count": null,
      "metadata": {
        "id": "MmdYHD_TSWKI"
      },
      "outputs": [],
      "source": [
        "pca = PCA()\n",
        "pca.fit(X)\n",
        "cumsum = np.cumsum(pca.explained_variance_ratio_)\n",
        "d = np.argmax(cumsum >= 0.95) + 1"
      ]
    },
    {
      "cell_type": "code",
      "execution_count": null,
      "metadata": {
        "id": "3k-zN05ySWKI",
        "outputId": "e14657e4-0d77-48a8-a468-ecb53734d6af"
      },
      "outputs": [
        {
          "name": "stdout",
          "output_type": "stream",
          "text": [
            "number of features with variance >= 0.95 is 18\n"
          ]
        }
      ],
      "source": [
        "print('number of features with variance >= 0.95 is', d)"
      ]
    },
    {
      "cell_type": "markdown",
      "metadata": {
        "id": "9LLEyXduSWKI"
      },
      "source": [
        "Choosing the number of components acheiving the required variance"
      ]
    },
    {
      "cell_type": "code",
      "execution_count": null,
      "metadata": {
        "id": "dCgxUFFPSWKI"
      },
      "outputs": [],
      "source": [
        "pca = PCA(n_components=0.95)\n",
        "X_reduced = pca.fit_transform(X)"
      ]
    },
    {
      "cell_type": "code",
      "execution_count": null,
      "metadata": {
        "id": "BFvserPRSWKI",
        "outputId": "a6d64b3a-bd10-4ab4-fa54-0d94ce4c82d6"
      },
      "outputs": [
        {
          "name": "stdout",
          "output_type": "stream",
          "text": [
            "[[-6.22862606e-01 -3.69797068e-01  1.02892089e+00 ...  8.14402540e-02\n",
            "  -3.05084075e-02 -5.45719491e-01]\n",
            " [-5.47065775e-01  8.74835808e-01  8.39514235e-01 ... -5.47657388e-01\n",
            "   8.90207115e-02 -1.23447451e-02]\n",
            " [-7.62622381e-01 -4.81500876e-02  1.21425351e+00 ... -5.86016013e-01\n",
            "  -1.00922592e-02 -1.33334020e-01]\n",
            " ...\n",
            " [-6.50275787e-01  1.23467081e-03  9.47439112e-01 ... -4.84565130e-01\n",
            "  -5.12521250e-03  5.22590891e-02]\n",
            " [-4.58779697e-01 -9.01146486e-01 -5.70013536e-01 ...  4.69338890e-01\n",
            "   7.35606946e-02  1.31868500e-01]\n",
            " [ 1.41469078e+00  3.34549496e-01 -5.49654453e-02 ... -1.46020995e-01\n",
            "   2.50663102e-02  5.23236311e-02]]\n"
          ]
        }
      ],
      "source": [
        "print(X_reduced)"
      ]
    },
    {
      "cell_type": "markdown",
      "metadata": {
        "id": "a6wQGQZ5SWKI"
      },
      "source": [
        "Feature selection with univariate selection"
      ]
    },
    {
      "cell_type": "code",
      "execution_count": null,
      "metadata": {
        "id": "RZfAoTM4SWKI",
        "outputId": "af27a4b2-03e7-4bdd-f1e1-b5553a20b27e"
      },
      "outputs": [
        {
          "name": "stdout",
          "output_type": "stream",
          "text": [
            "[5.133e-01 1.630e+02 1.618e+02 1.922e+02 1.008e+03 9.611e-01 1.128e+01\n",
            " 2.124e+02 4.795e+01 3.094e+01 1.961e+02 2.824e+01 2.614e+01 2.675e+02\n",
            " 2.716e+02 2.913e+02 1.100e+02 7.340e+02 3.840e+02 1.376e+03 2.306e+02\n",
            " 7.032e+02 9.950e+01 1.299e+02 7.027e+02 5.841e+01]\n",
            "[[0.    1.    0.115 0.001 0.    0.    1.    0.    0.    1.   ]\n",
            " [0.465 0.    0.385 0.216 0.    0.    0.    1.    0.    0.   ]\n",
            " [0.014 1.    0.354 0.01  0.    0.    1.    0.    0.    0.   ]\n",
            " [0.62  0.    0.239 0.21  0.    0.    0.    1.    0.    0.   ]\n",
            " [0.014 1.    0.522 0.015 1.    0.    1.    0.    0.    1.   ]\n",
            " [0.099 1.    0.81  0.093 1.    0.    1.    0.    0.    1.   ]\n",
            " [0.296 1.    0.705 0.223 1.    0.    1.    0.    0.    0.   ]\n",
            " [0.127 0.    0.114 0.033 0.    0.    1.    0.    0.    0.   ]\n",
            " [0.38  1.    0.861 0.349 1.    0.    1.    0.    0.    1.   ]\n",
            " [0.859 0.    0.377 0.4   0.    0.    0.    1.    0.    0.   ]\n",
            " [0.169 1.    0.315 0.066 0.    0.    1.    0.    0.    0.   ]\n",
            " [0.211 0.    0.007 0.036 0.    1.    0.    0.    1.    0.   ]\n",
            " [0.803 0.    0.817 0.653 1.    0.    0.    1.    0.    0.   ]\n",
            " [0.676 1.    0.85  0.579 1.    0.    1.    0.    0.    0.   ]\n",
            " [0.338 1.    0.868 0.308 1.    0.    1.    0.    0.    1.   ]\n",
            " [0.958 0.    0.945 0.909 1.    0.    0.    0.    1.    0.   ]\n",
            " [0.718 0.    0.024 0.116 0.    1.    0.    1.    0.    0.   ]\n",
            " [0.986 0.    0.88  0.85  1.    0.    0.    0.    1.    0.   ]\n",
            " [0.127 0.    0.368 0.059 0.    0.    1.    0.    0.    0.   ]\n",
            " [0.282 1.    0.714 0.213 1.    0.    1.    0.    0.    1.   ]]\n"
          ]
        }
      ],
      "source": [
        "# feature extraction (10 features)\n",
        "test = SelectKBest(score_func=f_classif, k=10)\n",
        "fit = test.fit(X, y)\n",
        "# summarize scores\n",
        "set_printoptions(precision=3)\n",
        "print(fit.scores_)\n",
        "X_features = fit.transform(X)\n",
        "# summarize selected features\n",
        "print(X_features[0:20,:])"
      ]
    },
    {
      "cell_type": "markdown",
      "metadata": {
        "id": "puB63VhUSWKI"
      },
      "source": [
        "Feature selection with features importance"
      ]
    },
    {
      "cell_type": "code",
      "execution_count": null,
      "metadata": {
        "id": "7YFu3u8NSWKI",
        "outputId": "302ec25c-88b3-4a45-c34e-08b295a06b2a"
      },
      "outputs": [
        {
          "name": "stdout",
          "output_type": "stream",
          "text": [
            "[0.038 0.025 0.028 0.026 0.128 0.007 0.027 0.027 0.03  0.027 0.025 0.023\n",
            " 0.023 0.032 0.128 0.152 0.011 0.043 0.009 0.037 0.021 0.051 0.012 0.011\n",
            " 0.048 0.01 ]\n"
          ]
        }
      ],
      "source": [
        "# feature extraction\n",
        "model = ExtraTreesClassifier(n_estimators=10)\n",
        "model.fit(X, y)\n",
        "print(model.feature_importances_)"
      ]
    },
    {
      "cell_type": "markdown",
      "metadata": {
        "id": "qSZWtTpMSWKI"
      },
      "source": [
        "Feature selection with correlation"
      ]
    },
    {
      "cell_type": "code",
      "execution_count": null,
      "metadata": {
        "id": "KOb7m0L4SWKJ",
        "outputId": "de819196-2c8f-463d-a7f6-1cc0cafcaca7"
      },
      "outputs": [
        {
          "data": {
            "text/plain": [
              "<matplotlib.axes._subplots.AxesSubplot at 0x2751103b248>"
            ]
          },
          "execution_count": 44,
          "metadata": {},
          "output_type": "execute_result"
        },
        {
          "data": {
            "image/png": "[encoded data removed]",
            "text/plain": [
              "<Figure size 432x288 with 2 Axes>"
            ]
          },
          "metadata": {
            "needs_background": "light"
          },
          "output_type": "display_data"
        }
      ],
      "source": [
        "corr = X.corr()\n",
        "sns.heatmap(corr)"
      ]
    },
    {
      "cell_type": "code",
      "execution_count": null,
      "metadata": {
        "id": "vfUqZrZ9SWKJ"
      },
      "outputs": [],
      "source": [
        "columns = np.full((corr.shape[0],), True, dtype=bool)\n",
        "for i in range(corr.shape[0]):\n",
        "    for j in range(i+1, corr.shape[0]):\n",
        "        if abs(corr.iloc[i,j]) >= 0.5:\n",
        "            if columns[j]:\n",
        "                columns[j] = False\n",
        "selected_columns = X.columns[columns]\n",
        "X_corr = X[selected_columns]"
      ]
    },
    {
      "cell_type": "code",
      "execution_count": null,
      "metadata": {
        "id": "74vhmRSQSWKJ",
        "outputId": "e68f1b69-db23-40ae-cd4f-520142d30ac2"
      },
      "outputs": [
        {
          "data": {
            "text/plain": [
              "Index(['gender', 'SeniorCitizen', 'Partner', 'Dependents', 'tenure',\n",
              "       'PhoneService', 'MultipleLines', 'OnlineSecurity', 'OnlineBackup',\n",
              "       'DeviceProtection', 'TechSupport', 'StreamingTV', 'PaperlessBilling',\n",
              "       'DSL', 'Bank transfer (automatic)', 'Credit card (automatic)',\n",
              "       'Electronic check', 'Mailed check'],\n",
              "      dtype='object')"
            ]
          },
          "execution_count": 46,
          "metadata": {},
          "output_type": "execute_result"
        }
      ],
      "source": [
        "selected_columns"
      ]
    },
    {
      "cell_type": "code",
      "execution_count": null,
      "metadata": {
        "id": "2sqr661SSWKJ",
        "outputId": "6298ee32-e86f-48a0-d376-79a6e672cd23"
      },
      "outputs": [
        {
          "data": {
            "text/html": [
              "<div>\n",
              "<style scoped>\n",
              "    .dataframe tbody tr th:only-of-type {\n",
              "        vertical-align: middle;\n",
              "    }\n",
              "\n",
              "    .dataframe tbody tr th {\n",
              "        vertical-align: top;\n",
              "    }\n",
              "\n",
              "    .dataframe thead th {\n",
              "        text-align: right;\n",
              "    }\n",
              "</style>\n",
              "<table border=\"1\" class=\"dataframe\">\n",
              "  <thead>\n",
              "    <tr style=\"text-align: right;\">\n",
              "      <th></th>\n",
              "      <th>gender</th>\n",
              "      <th>SeniorCitizen</th>\n",
              "      <th>Partner</th>\n",
              "      <th>Dependents</th>\n",
              "      <th>tenure</th>\n",
              "      <th>PhoneService</th>\n",
              "      <th>MultipleLines</th>\n",
              "      <th>OnlineSecurity</th>\n",
              "      <th>OnlineBackup</th>\n",
              "      <th>DeviceProtection</th>\n",
              "      <th>TechSupport</th>\n",
              "      <th>StreamingTV</th>\n",
              "      <th>PaperlessBilling</th>\n",
              "      <th>DSL</th>\n",
              "      <th>Bank transfer (automatic)</th>\n",
              "      <th>Credit card (automatic)</th>\n",
              "      <th>Electronic check</th>\n",
              "      <th>Mailed check</th>\n",
              "    </tr>\n",
              "  </thead>\n",
              "  <tbody>\n",
              "    <tr>\n",
              "      <th>0</th>\n",
              "      <td>0.0</td>\n",
              "      <td>0.0</td>\n",
              "      <td>1.0</td>\n",
              "      <td>0.0</td>\n",
              "      <td>0.000000</td>\n",
              "      <td>0.0</td>\n",
              "      <td>0.0</td>\n",
              "      <td>0.0</td>\n",
              "      <td>1.0</td>\n",
              "      <td>0.0</td>\n",
              "      <td>0.0</td>\n",
              "      <td>0.0</td>\n",
              "      <td>1.0</td>\n",
              "      <td>1.0</td>\n",
              "      <td>0.0</td>\n",
              "      <td>0.0</td>\n",
              "      <td>1.0</td>\n",
              "      <td>0.0</td>\n",
              "    </tr>\n",
              "    <tr>\n",
              "      <th>1</th>\n",
              "      <td>1.0</td>\n",
              "      <td>0.0</td>\n",
              "      <td>0.0</td>\n",
              "      <td>0.0</td>\n",
              "      <td>0.464789</td>\n",
              "      <td>1.0</td>\n",
              "      <td>0.0</td>\n",
              "      <td>1.0</td>\n",
              "      <td>0.0</td>\n",
              "      <td>1.0</td>\n",
              "      <td>0.0</td>\n",
              "      <td>0.0</td>\n",
              "      <td>0.0</td>\n",
              "      <td>1.0</td>\n",
              "      <td>0.0</td>\n",
              "      <td>0.0</td>\n",
              "      <td>0.0</td>\n",
              "      <td>1.0</td>\n",
              "    </tr>\n",
              "    <tr>\n",
              "      <th>2</th>\n",
              "      <td>1.0</td>\n",
              "      <td>0.0</td>\n",
              "      <td>0.0</td>\n",
              "      <td>0.0</td>\n",
              "      <td>0.014085</td>\n",
              "      <td>1.0</td>\n",
              "      <td>0.0</td>\n",
              "      <td>1.0</td>\n",
              "      <td>1.0</td>\n",
              "      <td>0.0</td>\n",
              "      <td>0.0</td>\n",
              "      <td>0.0</td>\n",
              "      <td>1.0</td>\n",
              "      <td>1.0</td>\n",
              "      <td>0.0</td>\n",
              "      <td>0.0</td>\n",
              "      <td>0.0</td>\n",
              "      <td>1.0</td>\n",
              "    </tr>\n",
              "    <tr>\n",
              "      <th>3</th>\n",
              "      <td>1.0</td>\n",
              "      <td>0.0</td>\n",
              "      <td>0.0</td>\n",
              "      <td>0.0</td>\n",
              "      <td>0.619718</td>\n",
              "      <td>0.0</td>\n",
              "      <td>0.0</td>\n",
              "      <td>1.0</td>\n",
              "      <td>0.0</td>\n",
              "      <td>1.0</td>\n",
              "      <td>1.0</td>\n",
              "      <td>0.0</td>\n",
              "      <td>0.0</td>\n",
              "      <td>1.0</td>\n",
              "      <td>1.0</td>\n",
              "      <td>0.0</td>\n",
              "      <td>0.0</td>\n",
              "      <td>0.0</td>\n",
              "    </tr>\n",
              "    <tr>\n",
              "      <th>4</th>\n",
              "      <td>0.0</td>\n",
              "      <td>0.0</td>\n",
              "      <td>0.0</td>\n",
              "      <td>0.0</td>\n",
              "      <td>0.014085</td>\n",
              "      <td>1.0</td>\n",
              "      <td>0.0</td>\n",
              "      <td>0.0</td>\n",
              "      <td>0.0</td>\n",
              "      <td>0.0</td>\n",
              "      <td>0.0</td>\n",
              "      <td>0.0</td>\n",
              "      <td>1.0</td>\n",
              "      <td>0.0</td>\n",
              "      <td>0.0</td>\n",
              "      <td>0.0</td>\n",
              "      <td>1.0</td>\n",
              "      <td>0.0</td>\n",
              "    </tr>\n",
              "    <tr>\n",
              "      <th>...</th>\n",
              "      <td>...</td>\n",
              "      <td>...</td>\n",
              "      <td>...</td>\n",
              "      <td>...</td>\n",
              "      <td>...</td>\n",
              "      <td>...</td>\n",
              "      <td>...</td>\n",
              "      <td>...</td>\n",
              "      <td>...</td>\n",
              "      <td>...</td>\n",
              "      <td>...</td>\n",
              "      <td>...</td>\n",
              "      <td>...</td>\n",
              "      <td>...</td>\n",
              "      <td>...</td>\n",
              "      <td>...</td>\n",
              "      <td>...</td>\n",
              "      <td>...</td>\n",
              "    </tr>\n",
              "    <tr>\n",
              "      <th>7038</th>\n",
              "      <td>1.0</td>\n",
              "      <td>0.0</td>\n",
              "      <td>1.0</td>\n",
              "      <td>1.0</td>\n",
              "      <td>0.323944</td>\n",
              "      <td>1.0</td>\n",
              "      <td>1.0</td>\n",
              "      <td>1.0</td>\n",
              "      <td>0.0</td>\n",
              "      <td>1.0</td>\n",
              "      <td>1.0</td>\n",
              "      <td>1.0</td>\n",
              "      <td>1.0</td>\n",
              "      <td>1.0</td>\n",
              "      <td>0.0</td>\n",
              "      <td>0.0</td>\n",
              "      <td>0.0</td>\n",
              "      <td>1.0</td>\n",
              "    </tr>\n",
              "    <tr>\n",
              "      <th>7039</th>\n",
              "      <td>0.0</td>\n",
              "      <td>0.0</td>\n",
              "      <td>1.0</td>\n",
              "      <td>1.0</td>\n",
              "      <td>1.000000</td>\n",
              "      <td>1.0</td>\n",
              "      <td>1.0</td>\n",
              "      <td>0.0</td>\n",
              "      <td>1.0</td>\n",
              "      <td>1.0</td>\n",
              "      <td>0.0</td>\n",
              "      <td>1.0</td>\n",
              "      <td>1.0</td>\n",
              "      <td>0.0</td>\n",
              "      <td>0.0</td>\n",
              "      <td>1.0</td>\n",
              "      <td>0.0</td>\n",
              "      <td>0.0</td>\n",
              "    </tr>\n",
              "    <tr>\n",
              "      <th>7040</th>\n",
              "      <td>0.0</td>\n",
              "      <td>0.0</td>\n",
              "      <td>1.0</td>\n",
              "      <td>1.0</td>\n",
              "      <td>0.140845</td>\n",
              "      <td>0.0</td>\n",
              "      <td>0.0</td>\n",
              "      <td>1.0</td>\n",
              "      <td>0.0</td>\n",
              "      <td>0.0</td>\n",
              "      <td>0.0</td>\n",
              "      <td>0.0</td>\n",
              "      <td>1.0</td>\n",
              "      <td>1.0</td>\n",
              "      <td>0.0</td>\n",
              "      <td>0.0</td>\n",
              "      <td>1.0</td>\n",
              "      <td>0.0</td>\n",
              "    </tr>\n",
              "    <tr>\n",
              "      <th>7041</th>\n",
              "      <td>1.0</td>\n",
              "      <td>1.0</td>\n",
              "      <td>1.0</td>\n",
              "      <td>0.0</td>\n",
              "      <td>0.042254</td>\n",
              "      <td>1.0</td>\n",
              "      <td>1.0</td>\n",
              "      <td>0.0</td>\n",
              "      <td>0.0</td>\n",
              "      <td>0.0</td>\n",
              "      <td>0.0</td>\n",
              "      <td>0.0</td>\n",
              "      <td>1.0</td>\n",
              "      <td>0.0</td>\n",
              "      <td>0.0</td>\n",
              "      <td>0.0</td>\n",
              "      <td>0.0</td>\n",
              "      <td>1.0</td>\n",
              "    </tr>\n",
              "    <tr>\n",
              "      <th>7042</th>\n",
              "      <td>1.0</td>\n",
              "      <td>0.0</td>\n",
              "      <td>0.0</td>\n",
              "      <td>0.0</td>\n",
              "      <td>0.915493</td>\n",
              "      <td>1.0</td>\n",
              "      <td>0.0</td>\n",
              "      <td>1.0</td>\n",
              "      <td>0.0</td>\n",
              "      <td>1.0</td>\n",
              "      <td>1.0</td>\n",
              "      <td>1.0</td>\n",
              "      <td>1.0</td>\n",
              "      <td>0.0</td>\n",
              "      <td>1.0</td>\n",
              "      <td>0.0</td>\n",
              "      <td>0.0</td>\n",
              "      <td>0.0</td>\n",
              "    </tr>\n",
              "  </tbody>\n",
              "</table>\n",
              "<p>7032 rows × 18 columns</p>\n",
              "</div>"
            ],
            "text/plain": [
              "      gender  SeniorCitizen  Partner  Dependents    tenure  PhoneService  \\\n",
              "0        0.0            0.0      1.0         0.0  0.000000           0.0   \n",
              "1        1.0            0.0      0.0         0.0  0.464789           1.0   \n",
              "2        1.0            0.0      0.0         0.0  0.014085           1.0   \n",
              "3        1.0            0.0      0.0         0.0  0.619718           0.0   \n",
              "4        0.0            0.0      0.0         0.0  0.014085           1.0   \n",
              "...      ...            ...      ...         ...       ...           ...   \n",
              "7038     1.0            0.0      1.0         1.0  0.323944           1.0   \n",
              "7039     0.0            0.0      1.0         1.0  1.000000           1.0   \n",
              "7040     0.0            0.0      1.0         1.0  0.140845           0.0   \n",
              "7041     1.0            1.0      1.0         0.0  0.042254           1.0   \n",
              "7042     1.0            0.0      0.0         0.0  0.915493           1.0   \n",
              "\n",
              "      MultipleLines  OnlineSecurity  OnlineBackup  DeviceProtection  \\\n",
              "0               0.0             0.0           1.0               0.0   \n",
              "1               0.0             1.0           0.0               1.0   \n",
              "2               0.0             1.0           1.0               0.0   \n",
              "3               0.0             1.0           0.0               1.0   \n",
              "4               0.0             0.0           0.0               0.0   \n",
              "...             ...             ...           ...               ...   \n",
              "7038            1.0             1.0           0.0               1.0   \n",
              "7039            1.0             0.0           1.0               1.0   \n",
              "7040            0.0             1.0           0.0               0.0   \n",
              "7041            1.0             0.0           0.0               0.0   \n",
              "7042            0.0             1.0           0.0               1.0   \n",
              "\n",
              "      TechSupport  StreamingTV  PaperlessBilling  DSL  \\\n",
              "0             0.0          0.0               1.0  1.0   \n",
              "1             0.0          0.0               0.0  1.0   \n",
              "2             0.0          0.0               1.0  1.0   \n",
              "3             1.0          0.0               0.0  1.0   \n",
              "4             0.0          0.0               1.0  0.0   \n",
              "...           ...          ...               ...  ...   \n",
              "7038          1.0          1.0               1.0  1.0   \n",
              "7039          0.0          1.0               1.0  0.0   \n",
              "7040          0.0          0.0               1.0  1.0   \n",
              "7041          0.0          0.0               1.0  0.0   \n",
              "7042          1.0          1.0               1.0  0.0   \n",
              "\n",
              "      Bank transfer (automatic)  Credit card (automatic)  Electronic check  \\\n",
              "0                           0.0                      0.0               1.0   \n",
              "1                           0.0                      0.0               0.0   \n",
              "2                           0.0                      0.0               0.0   \n",
              "3                           1.0                      0.0               0.0   \n",
              "4                           0.0                      0.0               1.0   \n",
              "...                         ...                      ...               ...   \n",
              "7038                        0.0                      0.0               0.0   \n",
              "7039                        0.0                      1.0               0.0   \n",
              "7040                        0.0                      0.0               1.0   \n",
              "7041                        0.0                      0.0               0.0   \n",
              "7042                        1.0                      0.0               0.0   \n",
              "\n",
              "      Mailed check  \n",
              "0              0.0  \n",
              "1              1.0  \n",
              "2              1.0  \n",
              "3              0.0  \n",
              "4              0.0  \n",
              "...            ...  \n",
              "7038           1.0  \n",
              "7039           0.0  \n",
              "7040           0.0  \n",
              "7041           1.0  \n",
              "7042           0.0  \n",
              "\n",
              "[7032 rows x 18 columns]"
            ]
          },
          "execution_count": 47,
          "metadata": {},
          "output_type": "execute_result"
        }
      ],
      "source": [
        "X_corr"
      ]
    },
    {
      "cell_type": "code",
      "execution_count": null,
      "metadata": {
        "id": "e1jfIPQpSWKJ",
        "outputId": "876cbc71-1212-4955-d1d3-6279ec5e8426"
      },
      "outputs": [
        {
          "data": {
            "image/png": "[encoded data removed]",
            "text/plain": [
              "<Figure size 1440x1800 with 18 Axes>"
            ]
          },
          "metadata": {
            "needs_background": "light"
          },
          "output_type": "display_data"
        }
      ],
      "source": [
        "fig = plt.figure(figsize = (20, 25))\n",
        "fig.tight_layout()\n",
        "j = 0\n",
        "for i in X_corr.columns:\n",
        "    plt.subplot(6, 5, j+1)\n",
        "    j += 1\n",
        "    sns.distplot(X_corr[i][y==0], color='g', label = 'no Churn')\n",
        "    sns.distplot(X_corr[i][y==1], color='r', label = 'Churn')\n",
        "    plt.legend(loc='best')\n",
        "fig.suptitle('Churn data analysis')\n",
        "fig.tight_layout()\n",
        "fig.subplots_adjust(top=1)\n",
        "plt.show()"
      ]
    },
    {
      "cell_type": "markdown",
      "metadata": {
        "id": "ca989AbrSWKJ"
      },
      "source": [
        "Run With different features"
      ]
    },
    {
      "cell_type": "code",
      "execution_count": null,
      "metadata": {
        "id": "DOQJ5TdFSWKK"
      },
      "outputs": [],
      "source": [
        "# Same features 26\n",
        "#X=X"
      ]
    },
    {
      "cell_type": "code",
      "execution_count": null,
      "metadata": {
        "id": "TrtuW-vCSWKK"
      },
      "outputs": [],
      "source": [
        "# features reduction with PCA 18\n",
        "#X=X_pca"
      ]
    },
    {
      "cell_type": "code",
      "execution_count": null,
      "metadata": {
        "id": "6ZExAOPYSWKK"
      },
      "outputs": [],
      "source": [
        "#Features reduction with univariate selection\n",
        "X=X_features"
      ]
    },
    {
      "cell_type": "code",
      "execution_count": null,
      "metadata": {
        "id": "DZHUSkMeSWKK"
      },
      "outputs": [],
      "source": [
        "# features selection with Correlation 7\n",
        "#X=X_corr"
      ]
    },
    {
      "cell_type": "code",
      "execution_count": null,
      "metadata": {
        "id": "4sX0JbVVSWKK"
      },
      "outputs": [],
      "source": [
        "from sklearn.model_selection import train_test_split\n",
        "X_train, X_test, y_train, y_test=train_test_split(X, y, test_size=0.3, random_state=123)"
      ]
    },
    {
      "cell_type": "code",
      "execution_count": null,
      "metadata": {
        "id": "pbKyoH8xSWKK",
        "outputId": "28cd23b0-7cca-4b87-9a01-41fe73287ca7"
      },
      "outputs": [
        {
          "data": {
            "text/plain": [
              "array([[0.085, 1.   , 0.811, ..., 0.   , 0.   , 1.   ],\n",
              "       [0.   , 1.   , 0.608, ..., 0.   , 0.   , 0.   ],\n",
              "       [0.366, 0.   , 0.306, ..., 0.   , 0.   , 0.   ],\n",
              "       ...,\n",
              "       [0.141, 1.   , 0.022, ..., 0.   , 0.   , 1.   ],\n",
              "       [0.662, 1.   , 0.814, ..., 0.   , 0.   , 0.   ],\n",
              "       [0.113, 1.   , 0.505, ..., 0.   , 0.   , 0.   ]])"
            ]
          },
          "execution_count": 54,
          "metadata": {},
          "output_type": "execute_result"
        }
      ],
      "source": [
        "X_train"
      ]
    },
    {
      "cell_type": "code",
      "execution_count": null,
      "metadata": {
        "id": "Po1bu4_zSWKK",
        "outputId": "13371db3-c255-4779-910d-98e5217e43f1"
      },
      "outputs": [
        {
          "data": {
            "text/plain": [
              "array([[0.479, 1.   , 0.019, ..., 0.   , 1.   , 0.   ],\n",
              "       [0.239, 1.   , 0.574, ..., 0.   , 0.   , 0.   ],\n",
              "       [0.901, 1.   , 0.845, ..., 1.   , 0.   , 0.   ],\n",
              "       ...,\n",
              "       [0.028, 0.   , 0.021, ..., 0.   , 0.   , 0.   ],\n",
              "       [0.085, 0.   , 0.02 , ..., 1.   , 0.   , 0.   ],\n",
              "       [0.634, 1.   , 0.01 , ..., 0.   , 1.   , 0.   ]])"
            ]
          },
          "execution_count": 55,
          "metadata": {},
          "output_type": "execute_result"
        }
      ],
      "source": [
        "X_test"
      ]
    },
    {
      "cell_type": "code",
      "execution_count": null,
      "metadata": {
        "id": "hAL2pE3YSWKK"
      },
      "outputs": [],
      "source": []
    },
    {
      "cell_type": "code",
      "execution_count": null,
      "metadata": {
        "id": "70krApmxSWKK",
        "outputId": "02d9fbda-22f1-4b30-e9d3-89c01b110a6e"
      },
      "outputs": [
        {
          "data": {
            "text/plain": [
              "LogisticRegression(random_state=0)"
            ]
          },
          "execution_count": 56,
          "metadata": {},
          "output_type": "execute_result"
        }
      ],
      "source": [
        "#Logistic Regression\n",
        "from sklearn.linear_model import LogisticRegression\n",
        "logreg=LogisticRegression(random_state=0)\n",
        "logreg.fit(X_train,y_train)"
      ]
    },
    {
      "cell_type": "code",
      "execution_count": null,
      "metadata": {
        "id": "XfjNlArwSWKL"
      },
      "outputs": [],
      "source": [
        "# Model Evaluation\n",
        "y_pred_logreg=logreg.predict(X_test)\n"
      ]
    },
    {
      "cell_type": "code",
      "execution_count": null,
      "metadata": {
        "id": "7DqT5tamSWKL"
      },
      "outputs": [],
      "source": [
        "from sklearn import metrics\n",
        "from sklearn.metrics import confusion_matrix"
      ]
    },
    {
      "cell_type": "code",
      "execution_count": null,
      "metadata": {
        "id": "_XgVoMbHSWKL",
        "outputId": "9cca4583-7dde-4949-a803-33cb7c2e149f"
      },
      "outputs": [
        {
          "name": "stdout",
          "output_type": "stream",
          "text": [
            "Logistic Regression\n",
            "Accuracy: 0.7924170616113744\n",
            "Precision 0.7052401746724891\n",
            "Recall 0.5159744408945687\n",
            "f1_score 0.5959409594095941\n"
          ]
        }
      ],
      "source": [
        "print('Logistic Regression')\n",
        "print(\"Accuracy:\",metrics.accuracy_score(y_test, y_pred_logreg))\n",
        "print(\"Precision\",metrics.precision_score(y_test,y_pred_logreg))\n",
        "print(\"Recall\",metrics.recall_score(y_test,y_pred_logreg))\n",
        "print(\"f1_score\",metrics.f1_score(y_test,y_pred_logreg))"
      ]
    },
    {
      "cell_type": "code",
      "execution_count": null,
      "metadata": {
        "id": "rRPC4-VBSWKL",
        "outputId": "64522936-fdb7-4ffc-9e81-2731c9df3696"
      },
      "outputs": [
        {
          "data": {
            "text/plain": [
              "<sklearn.metrics._plot.confusion_matrix.ConfusionMatrixDisplay at 0x27511111348>"
            ]
          },
          "execution_count": 60,
          "metadata": {},
          "output_type": "execute_result"
        },
        {
          "data": {
            "image/png": "[encoded data removed]",
            "text/plain": [
              "<Figure size 432x288 with 2 Axes>"
            ]
          },
          "metadata": {
            "needs_background": "light"
          },
          "output_type": "display_data"
        }
      ],
      "source": [
        "metrics.plot_confusion_matrix(logreg,X_test,y_test)"
      ]
    },
    {
      "cell_type": "code",
      "execution_count": null,
      "metadata": {
        "id": "G7i0NKtwSWKL",
        "outputId": "c495a47a-a510-48b4-9b41-23b1491bb7ae"
      },
      "outputs": [
        {
          "data": {
            "text/plain": [
              "RandomForestClassifier(max_depth=5, min_samples_split=50, random_state=99)"
            ]
          },
          "execution_count": 61,
          "metadata": {},
          "output_type": "execute_result"
        }
      ],
      "source": [
        "# Building a Random Forest Model\n",
        "from sklearn.ensemble import RandomForestClassifier\n",
        "rf=RandomForestClassifier(criterion='gini',random_state=99,max_depth=5,min_samples_split=50)\n",
        "rf.fit(X_train,y_train)"
      ]
    },
    {
      "cell_type": "code",
      "execution_count": null,
      "metadata": {
        "id": "2VDXoBTBSWKL"
      },
      "outputs": [],
      "source": [
        "# Model Evaluation\n",
        "y_pred_rf=rf.predict(X_test)"
      ]
    },
    {
      "cell_type": "code",
      "execution_count": null,
      "metadata": {
        "id": "EfVrjKuHSWKL",
        "outputId": "e9a14efa-994c-40ca-e273-05d90da844f5"
      },
      "outputs": [
        {
          "name": "stdout",
          "output_type": "stream",
          "text": [
            "Random Forrest\n",
            "Accuracy: 0.7886255924170616\n",
            "Precision 0.7272727272727273\n",
            "Recall 0.46006389776357826\n",
            "f1_score 0.5636007827788649\n"
          ]
        }
      ],
      "source": [
        "print('Random Forrest')\n",
        "print(\"Accuracy:\",metrics.accuracy_score(y_test, y_pred_rf))\n",
        "print(\"Precision\",metrics.precision_score(y_test,y_pred_rf))\n",
        "print(\"Recall\",metrics.recall_score(y_test,y_pred_rf))\n",
        "print(\"f1_score\",metrics.f1_score(y_test,y_pred_rf))"
      ]
    },
    {
      "cell_type": "code",
      "execution_count": null,
      "metadata": {
        "id": "uI8IYOSaSWKL",
        "outputId": "a4ca8113-8053-49cc-9561-c0c996e4d677"
      },
      "outputs": [
        {
          "data": {
            "text/plain": [
              "<sklearn.metrics._plot.confusion_matrix.ConfusionMatrixDisplay at 0x27517b23388>"
            ]
          },
          "execution_count": 64,
          "metadata": {},
          "output_type": "execute_result"
        },
        {
          "data": {
            "image/png": "[encoded data removed]",
            "text/plain": [
              "<Figure size 432x288 with 2 Axes>"
            ]
          },
          "metadata": {
            "needs_background": "light"
          },
          "output_type": "display_data"
        }
      ],
      "source": [
        "metrics.plot_confusion_matrix(rf,X_test,y_test)"
      ]
    },
    {
      "cell_type": "code",
      "execution_count": null,
      "metadata": {
        "id": "XhFOot6YSWKM",
        "outputId": "b7eec260-ea79-4465-a66c-751a34192d14"
      },
      "outputs": [
        {
          "data": {
            "text/plain": [
              "GaussianProcessClassifier()"
            ]
          },
          "execution_count": 75,
          "metadata": {},
          "output_type": "execute_result"
        }
      ],
      "source": [
        "#Gaussian Process Classifier\n",
        "from sklearn.gaussian_process import GaussianProcessClassifier\n",
        "gpc = GaussianProcessClassifier()\n",
        "gpc.fit(X_train,y_train)"
      ]
    },
    {
      "cell_type": "code",
      "execution_count": null,
      "metadata": {
        "id": "TqtHfid8SWKM"
      },
      "outputs": [],
      "source": [
        "# Model Evaluation\n",
        "y_pred_gpc = gpc.predict(X_test)"
      ]
    },
    {
      "cell_type": "code",
      "execution_count": null,
      "metadata": {
        "id": "5PsdN239SWKM",
        "outputId": "0d5d00aa-0dd6-4bcc-fc17-e108ea2a0807"
      },
      "outputs": [
        {
          "name": "stdout",
          "output_type": "stream",
          "text": [
            "Random Forrest\n",
            "Accuracy: 0.795734597156398\n",
            "Precision 0.7241379310344828\n",
            "Recall 0.5031948881789138\n",
            "f1_score 0.5937794533459001\n"
          ]
        }
      ],
      "source": [
        "print('Gaussian Process Classifier')\n",
        "print(\"Accuracy:\",metrics.accuracy_score(y_test, y_pred_gpc))\n",
        "print(\"Precision\",metrics.precision_score(y_test,y_pred_gpc))\n",
        "print(\"Recall\",metrics.recall_score(y_test,y_pred_gpc))\n",
        "print(\"f1_score\",metrics.f1_score(y_test,y_pred_gpc))"
      ]
    },
    {
      "cell_type": "code",
      "execution_count": null,
      "metadata": {
        "id": "VjQmB9ESSWKM",
        "outputId": "5dff828b-9561-4d8b-fba1-ffd4d8d5722a"
      },
      "outputs": [
        {
          "data": {
            "text/plain": [
              "<sklearn.metrics._plot.confusion_matrix.ConfusionMatrixDisplay at 0x2751679d508>"
            ]
          },
          "execution_count": 78,
          "metadata": {},
          "output_type": "execute_result"
        },
        {
          "data": {
            "image/png": "[encoded data removed]",
            "text/plain": [
              "<Figure size 432x288 with 2 Axes>"
            ]
          },
          "metadata": {
            "needs_background": "light"
          },
          "output_type": "display_data"
        }
      ],
      "source": [
        "metrics.plot_confusion_matrix(gpc,X_test,y_test)"
      ]
    },
    {
      "cell_type": "code",
      "execution_count": null,
      "metadata": {
        "id": "WIp4Nh5fSWKM",
        "outputId": "a451352e-4e09-4cfb-f4db-ba5925dff863"
      },
      "outputs": [
        {
          "data": {
            "text/plain": [
              "SVC(random_state=0)"
            ]
          },
          "execution_count": 79,
          "metadata": {},
          "output_type": "execute_result"
        }
      ],
      "source": [
        "#SVC\n",
        "from sklearn.svm import SVC\n",
        "classifier = SVC(kernel = 'rbf', random_state = 0)\n",
        "classifier.fit(X_train, y_train)\n"
      ]
    },
    {
      "cell_type": "code",
      "execution_count": null,
      "metadata": {
        "id": "AHlDt9KXSWKM"
      },
      "outputs": [],
      "source": [
        "y_pred = classifier.predict(X_test)"
      ]
    },
    {
      "cell_type": "code",
      "execution_count": null,
      "metadata": {
        "id": "O63psq7TSWKM",
        "outputId": "d72d6a2c-a5bc-4d83-f47f-811f72443005"
      },
      "outputs": [
        {
          "name": "stdout",
          "output_type": "stream",
          "text": [
            "Random Forrest\n",
            "Accuracy: 0.7895734597156399\n",
            "Precision 0.720873786407767\n",
            "Recall 0.4744408945686901\n",
            "f1_score 0.5722543352601155\n"
          ]
        }
      ],
      "source": [
        "print('SVC')\n",
        "print(\"Accuracy:\",metrics.accuracy_score(y_test, y_pred))\n",
        "print(\"Precision\",metrics.precision_score(y_test,y_pred))\n",
        "print(\"Recall\",metrics.recall_score(y_test,y_pred))\n",
        "print(\"f1_score\",metrics.f1_score(y_test,y_pred))"
      ]
    },
    {
      "cell_type": "code",
      "execution_count": null,
      "metadata": {
        "id": "kxnwJB1JSWKM",
        "outputId": "fb27b8a2-6ac2-4088-887a-9ff5cf76bbc9"
      },
      "outputs": [
        {
          "data": {
            "text/plain": [
              "<sklearn.metrics._plot.confusion_matrix.ConfusionMatrixDisplay at 0x27516822d88>"
            ]
          },
          "execution_count": 82,
          "metadata": {},
          "output_type": "execute_result"
        },
        {
          "data": {
            "image/png": "[encoded data removed]",
            "text/plain": [
              "<Figure size 432x288 with 2 Axes>"
            ]
          },
          "metadata": {
            "needs_background": "light"
          },
          "output_type": "display_data"
        }
      ],
      "source": [
        "metrics.plot_confusion_matrix(classifier,X_test,y_test)"
      ]
    },
    {
      "cell_type": "code",
      "execution_count": null,
      "metadata": {
        "id": "9nF1RKD9SWKN",
        "outputId": "8367433f-bda8-4121-c060-d5604760fbd5"
      },
      "outputs": [
        {
          "data": {
            "text/plain": [
              "GaussianNB()"
            ]
          },
          "execution_count": 83,
          "metadata": {},
          "output_type": "execute_result"
        }
      ],
      "source": [
        "# Naiive Bayes\n",
        "from sklearn.naive_bayes import GaussianNB\n",
        "from sklearn.naive_bayes import BernoulliNB\n",
        "classifier=GaussianNB()\n",
        "classifier.fit(X_train,y_train)\n"
      ]
    },
    {
      "cell_type": "code",
      "execution_count": null,
      "metadata": {
        "id": "Lj1qYM7NSWKN"
      },
      "outputs": [],
      "source": [
        "y_pred=classifier.predict(X_test)"
      ]
    },
    {
      "cell_type": "code",
      "execution_count": null,
      "metadata": {
        "id": "79gh42dFSWKN",
        "outputId": "e7a06c1e-c4fe-4a20-d4a4-5a5d180e3b24"
      },
      "outputs": [
        {
          "name": "stdout",
          "output_type": "stream",
          "text": [
            "Random Forrest\n",
            "Accuracy: 0.7132701421800948\n",
            "Precision 0.5104270109235353\n",
            "Recall 0.8210862619808307\n",
            "f1_score 0.6295162278015922\n"
          ]
        }
      ],
      "source": [
        "print('Naiive Bayesv- GaussianNB')\n",
        "print(\"Accuracy:\",metrics.accuracy_score(y_test, y_pred))\n",
        "print(\"Precision\",metrics.precision_score(y_test,y_pred))\n",
        "print(\"Recall\",metrics.recall_score(y_test,y_pred))\n",
        "print(\"f1_score\",metrics.f1_score(y_test,y_pred))"
      ]
    },
    {
      "cell_type": "code",
      "execution_count": null,
      "metadata": {
        "id": "-H2k3c_xSWKN",
        "outputId": "19a74199-87e1-4960-974c-bd12c69ae700"
      },
      "outputs": [
        {
          "data": {
            "text/plain": [
              "<sklearn.metrics._plot.confusion_matrix.ConfusionMatrixDisplay at 0x275168d1508>"
            ]
          },
          "execution_count": 86,
          "metadata": {},
          "output_type": "execute_result"
        },
        {
          "data": {
            "image/png": "[encoded data removed]",
            "text/plain": [
              "<Figure size 432x288 with 2 Axes>"
            ]
          },
          "metadata": {
            "needs_background": "light"
          },
          "output_type": "display_data"
        }
      ],
      "source": [
        "metrics.plot_confusion_matrix(classifier,X_test,y_test)"
      ]
    },
    {
      "cell_type": "code",
      "execution_count": null,
      "metadata": {
        "id": "aNrQb5Y5SWKN",
        "outputId": "eee68736-4a27-4985-e46f-e3e4d05cf937"
      },
      "outputs": [
        {
          "data": {
            "text/plain": [
              "BernoulliNB()"
            ]
          },
          "execution_count": 88,
          "metadata": {},
          "output_type": "execute_result"
        }
      ],
      "source": [
        "classifier=BernoulliNB()\n",
        "classifier.fit(X_train,y_train)\n"
      ]
    },
    {
      "cell_type": "code",
      "execution_count": null,
      "metadata": {
        "id": "h11zzYcdSWKN"
      },
      "outputs": [],
      "source": [
        "y_pred=classifier.predict(X_test)"
      ]
    },
    {
      "cell_type": "code",
      "execution_count": null,
      "metadata": {
        "id": "4KoqxKJbSWKN",
        "outputId": "ceafee7f-b835-4e3b-d538-c16cb37a3764"
      },
      "outputs": [
        {
          "name": "stdout",
          "output_type": "stream",
          "text": [
            "Naiive Bayes - BernoulliNB\n",
            "Accuracy: 0.7687203791469195\n",
            "Precision 0.592\n",
            "Recall 0.7092651757188498\n",
            "f1_score 0.6453488372093023\n"
          ]
        }
      ],
      "source": [
        "print('Naiive Bayes - BernoulliNB')\n",
        "print(\"Accuracy:\",metrics.accuracy_score(y_test, y_pred))\n",
        "print(\"Precision\",metrics.precision_score(y_test,y_pred))\n",
        "print(\"Recall\",metrics.recall_score(y_test,y_pred))\n",
        "print(\"f1_score\",metrics.f1_score(y_test,y_pred))"
      ]
    },
    {
      "cell_type": "code",
      "execution_count": null,
      "metadata": {
        "id": "LH3W1V70SWKN",
        "outputId": "db7e015b-65a6-4f89-8697-b94e58af2ed1"
      },
      "outputs": [
        {
          "data": {
            "text/plain": [
              "<sklearn.metrics._plot.confusion_matrix.ConfusionMatrixDisplay at 0x2751694de48>"
            ]
          },
          "execution_count": 91,
          "metadata": {},
          "output_type": "execute_result"
        },
        {
          "data": {
            "image/png": "[encoded data removed]",
            "text/plain": [
              "<Figure size 432x288 with 2 Axes>"
            ]
          },
          "metadata": {
            "needs_background": "light"
          },
          "output_type": "display_data"
        }
      ],
      "source": [
        "metrics.plot_confusion_matrix(classifier,X_test,y_test)"
      ]
    }
  ],
  "metadata": {
    "kernelspec": {
      "display_name": "Python 3",
      "language": "python",
      "name": "python3"
    },
    "language_info": {
      "codemirror_mode": {
        "name": "ipython",
        "version": 3
      },
      "file_extension": ".py",
      "mimetype": "text/x-python",
      "name": "python",
      "nbconvert_exporter": "python",
      "pygments_lexer": "ipython3",
      "version": "3.7.4"
    },
    "colab": {
      "provenance": []
    }
  },
  "nbformat": 4,
  "nbformat_minor": 0
}